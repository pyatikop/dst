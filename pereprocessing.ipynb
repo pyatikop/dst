{
 "cells": [
  {
   "cell_type": "code",
   "execution_count": 4,
   "id": "5ca705c6-4cab-4b55-836b-d2ee5b42f4bf",
   "metadata": {},
   "outputs": [],
   "source": [
    "import pandas as pd\n",
    "import numpy as np\n",
    "import matplotlib.pyplot as plt\n",
    "from sklearn.metrics import r2_score\n",
    "from sklearn.model_selection import train_test_split\n",
    "\n",
    "import matplotlib\n",
    "from matplotlib import pyplot as plt\n",
    "\n",
    "def forma(x):\n",
    "    x = [float(i.replace(',','.')) for i in  x.values]\n",
    "    return x\n",
    "\n",
    "def scale(x):\n",
    "    x_mean = np.mean(x)\n",
    "    x_std  = np.std(x)\n",
    "    x_scaled = (x - x_mean)/x_std\n",
    "    return x_scaled\n",
    "\n",
    "def norm_scale(x):\n",
    "    min = np.min(x)\n",
    "    max = np.max(x)\n",
    "    x_scaled = (x - min) / (max - min)\n",
    "    return x_scaled"
   ]
  },
  {
   "cell_type": "code",
   "execution_count": 7,
   "id": "4a98b604-a0a9-41ac-bb7f-1231de800fc5",
   "metadata": {},
   "outputs": [],
   "source": [
    "df = pd.read_csv('Compare_ACE_DSCOVR.csv', sep=';')\n",
    "\n",
    "df['B_x'] = df.shift(periods=21, fill_value=np.nan)['B_x']\n",
    "df['B_gsm_y'] = df.shift(periods=11, fill_value=np.nan)['B_gsm_y']\n",
    "df['B_gsm_z'] = df.shift(periods=3, fill_value=np.nan)['B_gsm_z']\n",
    "df['B_magn'] = df.shift(periods=14, fill_value=np.nan)['B_magn']\n",
    "df['H_den_SWP'] = df.shift(periods=10, fill_value=np.nan)['H_den_SWP']\n",
    "df['SW_spd'] = df.shift(periods=55, fill_value=np.nan)['SW_spd']\n",
    "\n",
    "values = ('B_x', 'B_gsm_y', 'B_gsm_z', 'B_magn', 'H_den_SWP', 'SW_spd')\n",
    "\n",
    "for elem in values:\n",
    "    df = df.drop(df[df[elem] == 'N'].index)\n",
    "    df = df.dropna()\n",
    "\n",
    "df_dst = df['Dst']\n",
    "\n",
    "for elem in values:\n",
    "    data = forma(df[elem])\n",
    "    df[elem] = data\n",
    "\n",
    "for elem in values:\n",
    "    data = norm_scale(df[elem])\n",
    "    df[elem] = data\n",
    "\n",
    "dataset = pd.DataFrame({elem:df[elem] for elem in values}).to_numpy()"
   ]
  }
 ],
 "metadata": {
  "kernelspec": {
   "display_name": "Python 3 (ipykernel)",
   "language": "python",
   "name": "python3"
  },
  "language_info": {
   "codemirror_mode": {
    "name": "ipython",
    "version": 3
   },
   "file_extension": ".py",
   "mimetype": "text/x-python",
   "name": "python",
   "nbconvert_exporter": "python",
   "pygments_lexer": "ipython3",
   "version": "3.10.0"
  }
 },
 "nbformat": 4,
 "nbformat_minor": 5
}
