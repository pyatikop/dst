{
 "cells": [
  {
   "cell_type": "code",
   "execution_count": 1,
   "metadata": {
    "id": "31xJWBRaeuJh"
   },
   "outputs": [],
   "source": [
    "import pandas as pd\n",
    "import numpy as np\n",
    "import matplotlib.pyplot as plt\n",
    "from sklearn.model_selection import train_test_split\n",
    "from sklearn import datasets, linear_model, metrics\n",
    "from sklearn.linear_model import LinearRegression\n",
    "from sklearn.preprocessing import StandardScaler, MinMaxScaler\n",
    "from sklearn.pipeline import Pipeline\n",
    "from sklearn.pipeline import make_pipeline\n",
    "import datetime\n",
    "\n",
    "import matplotlib\n",
    "from matplotlib import pyplot as plt\n",
    "import seaborn as sns\n",
    "\n",
    "import torch\n",
    "from torch import nn\n",
    "\n",
    "def forma(x):\n",
    "    x = [float(i.replace(',','.')) for i in  x.values]\n",
    "    return x\n",
    "\n",
    "def scale(x):\n",
    "    x_mean = np.mean(x)\n",
    "    x_std  = np.std(x)\n",
    "    x_scaled = (x - x_mean)/x_std\n",
    "    return x_scaled\n",
    "\n",
    "def norm_scale(x):\n",
    "    min = np.min(x)\n",
    "    max = np.max(x)\n",
    "    x_scaled = (x - min) / (max - min)\n",
    "    return x_scaled"
   ]
  },
  {
   "cell_type": "code",
   "execution_count": 2,
   "metadata": {
    "id": "EjzuLfQrr_V3"
   },
   "outputs": [],
   "source": [
    "df = pd.read_csv(r\"Compare_ACE_DSCOVR.csv\", sep=';')\n",
    "\n",
    "df['B_x'] = df.shift(periods=21, fill_value=np.nan)['B_x']\n",
    "df['B_gsm_y'] = df.shift(periods=11, fill_value=np.nan)['B_gsm_y']\n",
    "df['B_gsm_z'] = df.shift(periods=3, fill_value=np.nan)['B_gsm_z']\n",
    "df['B_magn'] = df.shift(periods=14, fill_value=np.nan)['B_magn']\n",
    "df['H_den_SWP'] = df.shift(periods=10, fill_value=np.nan)['H_den_SWP']\n",
    "df['SW_spd'] = df.shift(periods=55, fill_value=np.nan)['SW_spd']\n",
    "\n",
    "values = ['B_x', 'B_gsm_y', 'B_gsm_z', 'B_magn', 'H_den_SWP', 'SW_spd']\n",
    "\n",
    "for elem in values:\n",
    "    df = df.drop(df[df[elem] == 'N'].index)\n",
    "    df = df.dropna()\n",
    "\n",
    "for elem in values:\n",
    "    data = forma(df[elem])\n",
    "    df[elem] = data\n",
    "\n",
    "# for elem in values:\n",
    "#     data = norm_scale(df_new[elem])\n",
    "#     df[elem] = data"
   ]
  },
  {
   "cell_type": "code",
   "execution_count": 9,
   "metadata": {
    "id": "NRIwX5qj8JYO"
   },
   "outputs": [],
   "source": [
    "new_values = ['Dst',] + values\n",
    "\n",
    "date_values = ['year', 'month', 'day', 'hour from']\n",
    "date = pd.DataFrame(df.loc[:, date_values])\n",
    "\n",
    "date['hour from'] = date['hour from'].map(lambda x: '0'+str(x) if x not in range(10, 24) else str(x))\n",
    "date['datetime'] = date['year'].astype(str) + date['month'].astype(str) + date['day'].astype(str) + ' ' + date['hour from']\n",
    "date['datetime'] = pd.to_datetime(date['datetime'])\n",
    "\n",
    "dataset = pd.DataFrame({elem:df[elem] for elem in new_values})\n",
    "dataset = dataset.set_index(date['datetime'])"
   ]
  },
  {
   "cell_type": "code",
   "execution_count": 17,
   "metadata": {
    "colab": {
     "base_uri": "https://localhost:8080/"
    },
    "id": "Jnc8CCAYkQzq",
    "outputId": "a7dbd7e5-8f23-4ccb-965d-ea473a5535ea"
   },
   "outputs": [
    {
     "name": "stdout",
     "output_type": "stream",
     "text": [
      "y_predicted: [ -5.44528569  -7.93173413 -13.30439374 ...  -6.38882899 -12.49931618\n",
      "  -9.2694199 ]\n",
      "R**2 score: 0.1910455533090838\n",
      "MSE: 94.41588386898364\n",
      "MAE: 7.083373965088207\n"
     ]
    }
   ],
   "source": [
    "if not dataset.index.is_monotonic_increasing:\n",
    "   dataset = dataset.sort_index()\n",
    "\n",
    "x_train = dataset[values][:'2019-01-01 01:00:00']\n",
    "x_test = dataset[values]['2019-01-01 01:00:00':]\n",
    "y_train = dataset['Dst'].loc[:'2019-01-01 01:00:00']\n",
    "y_test = dataset['Dst'].loc['2019-01-01 01:00:00':]\n",
    "\n",
    "pipe = make_pipeline(MinMaxScaler(), LinearRegression())\n",
    "pipe.fit(x_train, y_train)\n",
    "y_pred = pipe.predict(x_test)\n",
    "print('y_predicted:', y_pred)\n",
    "\n",
    "R_2 = metrics.r2_score(y_test, y_pred)\n",
    "MSE = metrics.mean_squared_error(y_test, y_pred)\n",
    "MAE = metrics.mean_absolute_error(y_test, y_pred)\n",
    "\n",
    "print('R**2 score:', R_2)\n",
    "print('MSE:', MSE)\n",
    "print('MAE:', MAE)"
   ]
  },
  {
   "cell_type": "code",
   "execution_count": 11,
   "metadata": {
    "colab": {
     "base_uri": "https://localhost:8080/"
    },
    "id": "VdC_QGThtcJM",
    "outputId": "d90593ba-6785-43d7-ad1e-c3a0c68d8a6a"
   },
   "outputs": [
    {
     "name": "stdout",
     "output_type": "stream",
     "text": [
      "Coefficients: [-0.00888798 -0.09930079  2.65468997 -3.14185488 -0.05372597 -0.04376281]\n",
      "Intercept: 25.37303277931504\n",
      "\n",
      "R**2 score: 0.19104555330908413\n",
      "MSE: 94.4158838689836\n",
      "MAE: 7.083373965088219\n"
     ]
    }
   ],
   "source": [
    "# x_train = dataset[values][:'2019-01-01 01:00:00']\n",
    "# x_test = dataset[values]['2019-01-01 01:00:00':]\n",
    "# y_train = dataset['Dst'].loc[:'2019-01-01 01:00:00']\n",
    "# y_test = dataset['Dst'].loc['2019-01-01 01:00:00':]\n",
    "\n",
    "# # x_train= x_train.reshape(-1, 1)\n",
    "# # x_test = x_test.reshape(-1, 1)\n",
    "\n",
    "# model = linear_model.LinearRegression()\n",
    "# model.fit(x_train, y_train)\n",
    "# print('Coefficients:', model.coef_)\n",
    "# print('Intercept:', model.intercept_)\n",
    "# print()\n",
    "\n",
    "# y_pred = model.predict(x_test)\n",
    "\n",
    "# print('R**2 score:', metrics.r2_score(y_test, y_pred))\n",
    "# print('MSE:', metrics.mean_squared_error(y_test, y_pred))\n",
    "# print('MAE:', metrics.mean_absolute_error(y_test, y_pred))"
   ]
  },
  {
   "cell_type": "code",
   "execution_count": 21,
   "metadata": {
    "colab": {
     "base_uri": "https://localhost:8080/",
     "height": 466
    },
    "id": "8FJki_90qFIR",
    "outputId": "4861abe6-9a26-4b07-896d-b7fb4312d07c"
   },
   "outputs": [
    {
     "data": {
      "text/plain": [
       "Text(0, 0.5, 'MSE, нТл')"
      ]
     },
     "execution_count": 21,
     "metadata": {},
     "output_type": "execute_result"
    },
    {
     "data": {
      "image/png": "[encoded data removed]",
      "text/plain": [
       "<Figure size 640x480 with 1 Axes>"
      ]
     },
     "metadata": {},
     "output_type": "display_data"
    }
   ],
   "source": [
    "plt.hist(MSE, color = 'blue', edgecolor = 'black',\n",
    "         bins = 50)\n",
    "\n",
    "plt.xlabel('Dst')\n",
    "plt.ylabel('MSE, нТл')"
   ]
  },
  {
   "cell_type": "code",
   "execution_count": 18,
   "metadata": {
    "colab": {
     "base_uri": "https://localhost:8080/",
     "height": 518
    },
    "id": "DukRfCa-WkLo",
    "outputId": "89fe4932-08f5-4901-ab9c-7c48e65064fb"
   },
   "outputs": [
    {
     "data": {
      "image/png": "[encoded data removed]",
      "text/plain": [
       "<Figure size 600x500 with 2 Axes>"
      ]
     },
     "metadata": {},
     "output_type": "display_data"
    }
   ],
   "source": [
    "corr_matrix = dataset.corr()\n",
    "\n",
    "plt.figure(figsize=(6,5))\n",
    "sns.heatmap(corr_matrix)\n",
    "plt.show()"
   ]
  },
  {
   "cell_type": "code",
   "execution_count": null,
   "metadata": {},
   "outputs": [],
   "source": []
  }
 ],
 "metadata": {
  "colab": {
   "provenance": []
  },
  "kernelspec": {
   "display_name": "Python 3 (ipykernel)",
   "language": "python",
   "name": "python3"
  },
  "language_info": {
   "codemirror_mode": {
    "name": "ipython",
    "version": 3
   },
   "file_extension": ".py",
   "mimetype": "text/x-python",
   "name": "python",
   "nbconvert_exporter": "python",
   "pygments_lexer": "ipython3",
   "version": "3.10.0"
  }
 },
 "nbformat": 4,
 "nbformat_minor": 4
}
