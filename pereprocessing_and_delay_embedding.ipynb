{
 "cells": [
  {
   "cell_type": "code",
   "execution_count": 1,
   "id": "79eca764-e7de-466d-a799-6d7da6092925",
   "metadata": {},
   "outputs": [],
   "source": [
    "import pandas as pd\n",
    "import numpy as np\n",
    "import datetime\n",
    "\n",
    "import warnings\n",
    "warnings.filterwarnings('ignore')"
   ]
  },
  {
   "cell_type": "code",
   "execution_count": 2,
   "id": "bb84a397-a9cd-4cbc-8611-9ce193adf0f3",
   "metadata": {},
   "outputs": [],
   "source": [
    "data_ace = pd.read_csv(r\"Compare_ACE_DSCOVR.csv\", sep=';', na_values='N', decimal=',')"
   ]
  },
  {
   "cell_type": "code",
   "execution_count": 3,
   "id": "cb637105-bcd4-4d20-a780-8203e36bd4f8",
   "metadata": {},
   "outputs": [],
   "source": [
    "data_discover = pd.read_csv(r'Discover_с_интреполяцией12_актуальные_данные_до_22.09.2024.csv', sep=';', decimal=',')"
   ]
  },
  {
   "cell_type": "markdown",
   "id": "6ad7fe94-e168-4aef-a747-7872ce165d32",
   "metadata": {},
   "source": [
    "##### Преобразование индексов в виду datetime"
   ]
  },
  {
   "cell_type": "code",
   "execution_count": 4,
   "id": "813ecc21-a5ad-499f-acef-d4c681b6f0f4",
   "metadata": {},
   "outputs": [],
   "source": [
    "from_index_dst_ace = 9\n",
    "from_index_dst_discover = 4\n",
    "\n",
    "def to_datetime_ace(df):\n",
    "    date_values = ['year', 'month', 'day', 'hour from']\n",
    "    date = df[date_values].copy()\n",
    "\n",
    "    date['hour from'] = date['hour from'].apply(lambda x: f'{x:02d}')\n",
    "    date['datetime'] = pd.to_datetime(\n",
    "        date['year'].astype(str) + '-' +\n",
    "        date['month'].astype(str) + '-' +\n",
    "        date['day'].astype(str) + ' ' +\n",
    "        date['hour from']\n",
    "    )\n",
    "\n",
    "    dataset = df.copy()\n",
    "    dataset = dataset.set_index(date['datetime'])\n",
    "    return dataset\n",
    "\n",
    "def to_datetime_discover(df):\n",
    "    dataset = df.iloc[:, from_index_dst_discover:]\n",
    "    df = df.rename(columns={'Date time': 'datetime'}, inplace=True)\n",
    "    dataset = dataset.set_index(pd.to_datetime(data_discover['datetime']))\n",
    "    return dataset"
   ]
  },
  {
   "cell_type": "code",
   "execution_count": 5,
   "id": "75df73bd-e69f-457e-932d-c6adaa730f1b",
   "metadata": {
    "scrolled": true
   },
   "outputs": [],
   "source": [
    "data_ace = to_datetime_ace(data_ace)\n",
    "data_discover = to_datetime_discover(data_discover)"
   ]
  },
  {
   "cell_type": "markdown",
   "id": "8ad46334-db10-4aa7-b9a8-02b427815659",
   "metadata": {},
   "source": [
    "##### Добавление к данным Discover столбца c dst в соответсвующие даты и время"
   ]
  },
  {
   "cell_type": "code",
   "execution_count": 6,
   "id": "fbbdee1c-e4ab-4abd-80fb-4b0cce63547e",
   "metadata": {},
   "outputs": [],
   "source": [
    "data_discover = data_ace['Dst'].to_frame().merge(data_discover, how='right', on='datetime')"
   ]
  },
  {
   "cell_type": "markdown",
   "id": "5b81c82c-1f33-4f12-8b8c-45946a355f54",
   "metadata": {},
   "source": [
    "#####  Осуществление погружения временного ряда (delay embedding)"
   ]
  },
  {
   "cell_type": "code",
   "execution_count": 7,
   "id": "5b458d49-4383-4a8a-aab9-03a45005553a",
   "metadata": {},
   "outputs": [],
   "source": [
    "def shifting(df, delay_values, future_shift, type):\n",
    "    data = pd.DataFrame(index=data_ace.index if type == 'ace' else data_discover.index)\n",
    "    new_columns = pd.DataFrame(index=data_ace.index if type == 'ace' else data_discover.index)\n",
    "    \n",
    "    for column_name, depth_of_delay in delay_values.items():\n",
    "        if column_name == 'Dst':\n",
    "            list_of_delays = [j*(-1) for j in reversed(range(1, future_shift+1))] + list(range(0, depth_of_delay+1))\n",
    "            new_names_for_columns = [f'{column_name} +{i}' for i in reversed(range(1, future_shift+1))] + [column_name, ] + [f'{column_name} -{i}' for i in range(1, depth_of_delay+1)]\n",
    "            df_shifted = df[column_name].shift(periods=list_of_delays, fill_value=np.nan)\n",
    "            df_shifted.columns = new_names_for_columns\n",
    "            data = data.join(df_shifted)\n",
    "        elif column_name != 'Dst':\n",
    "            new_columns[column_name] = df[column_name]\n",
    "            for i in range(1, depth_of_delay+1):\n",
    "                new_columns[f'{column_name} -{i}'] = df[column_name].shift(periods=i, fill_value=np.nan)\n",
    "    df_shifted = pd.DataFrame(new_columns)\n",
    "    data = data.join(df_shifted)\n",
    "            \n",
    "    return data"
   ]
  },
  {
   "cell_type": "code",
   "execution_count": 8,
   "id": "231736a0-c3d1-4296-b942-07c0f7487865",
   "metadata": {},
   "outputs": [],
   "source": [
    "column_names_ace = ['B_x', 'B_gsm_y', 'B_gsm_z', 'B_magn', 'H_den_SWP', 'SW_spd', 'Trr_SWP']\n",
    "column_names_discover = ['bx_gsm', 'by_gsm', 'bz_gsm', 'bt', 'proton_density', 'proton_speed', 'proton_temperature']\n",
    "\n",
    "rename_dict = {column_names_discover[i]: column_names_ace[i] for i in range(len(column_names_discover))}\n",
    "\n",
    "data_discover = data_discover.rename(columns=rename_dict)"
   ]
  },
  {
   "cell_type": "code",
   "execution_count": 9,
   "id": "8a4f1204-9f3e-48d2-9144-93662521e269",
   "metadata": {},
   "outputs": [],
   "source": [
    "column_names = ['Dst', 'B_x', 'B_gsm_y', 'B_gsm_z', 'B_magn', 'H_den_SWP', 'SW_spd', 'Trr_SWP']\n",
    "\n",
    "# Оптимальные глубины погружения с учётом автокорреляционных функций (для отсутсвующих значений беру глубину = 24 часам)\n",
    "# Dst - 43, Bx - 26, B_GSM_y - 12, B_GSM_z - 3, B_magn - 19, SW_spd - 56, H_den - 16\n",
    "\n",
    "delay_values_autocorr = [43, 26, 12, 3, 19, 16, 56, 24]\n",
    "delay_values_24 = [24, ]*8\n",
    "\n",
    "future_shift = 3 #горизонт предсказания"
   ]
  },
  {
   "cell_type": "code",
   "execution_count": 12,
   "id": "5ac49786-764d-4fa6-bebd-ffd6b713a5f0",
   "metadata": {},
   "outputs": [],
   "source": [
    "values_for_shift_24 = dict(zip(column_names, delay_values_24))\n",
    "values_for_shift_autocorr = dict(zip(column_names, delay_values_autocorr))"
   ]
  },
  {
   "cell_type": "code",
   "execution_count": 13,
   "id": "8e8b7968-4238-43da-b85a-d03b91be6b6b",
   "metadata": {},
   "outputs": [],
   "source": [
    "data_ace_shifted_24 = shifting(data_ace, values_for_shift_24, future_shift, 'ace')"
   ]
  },
  {
   "cell_type": "code",
   "execution_count": 14,
   "id": "459370cd-5e05-4f83-9a5e-de2f47efadec",
   "metadata": {},
   "outputs": [],
   "source": [
    "data_discover_shifted_24 = shifting(data_discover, values_for_shift_24, future_shift, 'discover')"
   ]
  },
  {
   "cell_type": "code",
   "execution_count": 15,
   "id": "78e641ed-643b-4543-b3dc-2885962ac019",
   "metadata": {},
   "outputs": [],
   "source": [
    "data_ace_shifted_autocorr = shifting(data_ace, values_for_shift_autocorr, future_shift, 'ace')"
   ]
  },
  {
   "cell_type": "code",
   "execution_count": 16,
   "id": "7b838323-b79e-4a30-b8d0-b2e2ad67bbe7",
   "metadata": {},
   "outputs": [],
   "source": [
    "data_discover_shifted_autocorr = shifting(data_discover, values_for_shift_autocorr, future_shift, 'discover')"
   ]
  },
  {
   "cell_type": "markdown",
   "id": "7892bcc1-5c6d-46fa-8baf-401fc7e46a93",
   "metadata": {},
   "source": [
    "##### Преобразование погруженных данных в файлы"
   ]
  },
  {
   "cell_type": "code",
   "execution_count": 17,
   "id": "88c45c33-48c0-4295-9f86-5cf17350ed67",
   "metadata": {},
   "outputs": [],
   "source": [
    "data_ace_shifted_24.to_csv(\"Ace_погружение_24часа.csv\", sep=';', encoding='utf-8')"
   ]
  },
  {
   "cell_type": "code",
   "execution_count": 18,
   "id": "688c1f2f-8787-4e21-8f4d-00502ed62f82",
   "metadata": {},
   "outputs": [],
   "source": [
    "data_discover_shifted_24.to_csv(\"Discover_погружение_24часа_до_22.09.2024.csv\", sep=';', encoding='utf-8')"
   ]
  },
  {
   "cell_type": "code",
   "execution_count": 19,
   "id": "d2b7bb6c-9265-402a-8e32-ed722e7c9a75",
   "metadata": {},
   "outputs": [],
   "source": [
    "data_ace_shifted_autocorr.to_csv(\"Ace_погружение_автокорр.csv\", sep=';', encoding='utf-8')"
   ]
  },
  {
   "cell_type": "code",
   "execution_count": 20,
   "id": "e25d05fe-a89e-423b-b6c6-65dc138f68ed",
   "metadata": {},
   "outputs": [],
   "source": [
    "data_discover_shifted_autocorr.to_csv(\"Discover_погружение_автокорр_до_22.09.2024.csv\", sep=';', encoding='utf-8')"
   ]
  },
  {
   "cell_type": "code",
   "execution_count": null,
   "id": "bd7424e6-46ee-418f-95c1-cd91976ae314",
   "metadata": {},
   "outputs": [],
   "source": []
  }
 ],
 "metadata": {
  "kernelspec": {
   "display_name": "Python 3 (ipykernel)",
   "language": "python",
   "name": "python3"
  },
  "language_info": {
   "codemirror_mode": {
    "name": "ipython",
    "version": 3
   },
   "file_extension": ".py",
   "mimetype": "text/x-python",
   "name": "python",
   "nbconvert_exporter": "python",
   "pygments_lexer": "ipython3",
   "version": "3.10.0"
  }
 },
 "nbformat": 4,
 "nbformat_minor": 5
}
