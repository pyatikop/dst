{
 "cells": [
  {
   "cell_type": "code",
   "execution_count": 423,
   "id": "c1d3734e-c667-4ec4-948d-03552e02b40a",
   "metadata": {},
   "outputs": [],
   "source": [
    "import pandas as pd\n",
    "import numpy as np\n",
    "\n",
    "def forma(x):\n",
    "    x = [float(i.replace(',','.')) if i != 'N' else 'N' for i in x.values]\n",
    "    return x\n",
    "\n",
    "data_discover = pd.read_csv(r\"Discover Часовые общий.csv\", sep=\";\")\n",
    "\n",
    "names = ['bx_gsm', 'by_gsm', 'bz_gsm', 'bt', 'proton_density', 'proton_speed', 'proton_temperature']\n",
    "\n",
    "for elem in names:\n",
    "    data = forma(data_discover[elem])\n",
    "    data_discover[elem] = data"
   ]
  },
  {
   "cell_type": "code",
   "execution_count": 432,
   "id": "8dd4b2c3-0399-459b-b370-092780d86ab6",
   "metadata": {},
   "outputs": [],
   "source": [
    "pd.set_option('future.no_silent_downcasting', True)\n",
    "\n",
    "for elem in names:\n",
    "    counter, out = -1, 0\n",
    "    for index, value in data_discover[elem].items():\n",
    "        if (value == 'N') & (counter < 12):\n",
    "            counter += 1\n",
    "        elif (value == 'N') & (counter >= 12):\n",
    "            counter = 0\n",
    "            out = 1\n",
    "        elif (value != 'N') & (counter in range(1, 13)) & (out == 0):\n",
    "            data_discover.loc[range(index-counter, index+1), elem] = np.NaN\n",
    "            data_slice = data_discover.loc[range(index-counter-1, index+1), elem]\n",
    "            data_slice_obj = data_slice.infer_objects(copy=False)\n",
    "            data_discover.loc[range(index-counter-1, index+1), elem] = data_slice_obj.interpolate(method='linear')\n",
    "            counter = 0\n",
    "        else:\n",
    "            counter = 0\n",
    "            out = 0\n",
    "\n",
    "\n",
    "# data_discover.to_csv(\"Discover с интреполяцией12.csv\", sep=';', index=False, encoding='utf-8')"
   ]
  },
  {
   "cell_type": "code",
   "execution_count": 431,
   "id": "cefebb22-c50c-420f-9fee-7dc02072d91a",
   "metadata": {},
   "outputs": [],
   "source": [
    "# names = ['bx_gsm', 'by_gsm']\n",
    "\n",
    "# data_discover = pd.DataFrame({'bx_gsm': ['N', 12,-4,7,9, 'N', 'N', 'N', 5, 8, 19, 23, 'N', 'N', 'N', 'N', 4, 2, 4, 'N', 'N', 'N', 'N', 'N', 'N', 'N', 'N', 'N', 8, 6, -12, 'N', 5, 'N'],\n",
    "#         'by_gsm': ['N', 14,-4,7,5, 4, 1, 'N', 5, 9, 19, 23, 21, 14, 'N', 'N', 4, 2, 4, 'N', 'N', 'N', 'N', 16, 15, 'N', 'N', 'N', 8, 6, -12, 'N', 5, 'N']})\n",
    "\n",
    "# pd.set_option('future.no_silent_downcasting', True)\n",
    "# pd.options.mode.chained_assignment = None\n",
    "\n",
    "# for elem in names:\n",
    "#     counter, out = -1, 0\n",
    "#     for index, value in data_discover[elem].items():\n",
    "#         if (value == 'N') & (counter < 4):\n",
    "#             counter += 1\n",
    "#         elif (value == 'N') & (counter >= 4):\n",
    "#             counter = 0\n",
    "#             out = 1\n",
    "#         elif (value != 'N') & (counter in range(1, 5)) and (out == 0):\n",
    "#             #data_discover[elem][index-counter:index] = data_discover[elem][index-counter:index].replace('N', np.NaN)\n",
    "#             data_discover.loc[range(index-counter, index+1), elem] = np.NaN\n",
    "#             #data_discover[index-counter-1:index+1].infer_objects(copy=False).interpolate(method='linear')\n",
    "#             data_discover.loc[range(index-counter-1, index+2), elem] = data_discover.loc[range(index-counter-1, index+2), elem].infer_objects(copy=False).interpolate(method='linear')\n",
    "#             counter = 0\n",
    "#         else:\n",
    "#             counter = 0\n",
    "#             out = 0\n",
    "\n",
    "# data_discover"
   ]
  }
 ],
 "metadata": {
  "kernelspec": {
   "display_name": "Python 3 (ipykernel)",
   "language": "python",
   "name": "python3"
  },
  "language_info": {
   "codemirror_mode": {
    "name": "ipython",
    "version": 3
   },
   "file_extension": ".py",
   "mimetype": "text/x-python",
   "name": "python",
   "nbconvert_exporter": "python",
   "pygments_lexer": "ipython3",
   "version": "3.10.0"
  }
 },
 "nbformat": 4,
 "nbformat_minor": 5
}
