{
 "cells": [
  {
   "cell_type": "code",
   "execution_count": 1,
   "id": "413be9d7-f378-43fa-8d54-63dac7aab124",
   "metadata": {},
   "outputs": [],
   "source": [
    "import pandas as pd\n",
    "import numpy as np\n",
    "from matplotlib import pyplot as plt\n",
    "from sklearn.model_selection import train_test_split\n",
    "from sklearn import datasets, linear_model, metrics\n",
    "from sklearn.linear_model import LinearRegression\n",
    "from sklearn.preprocessing import StandardScaler\n",
    "from sklearn.pipeline import Pipeline\n",
    "from sklearn.pipeline import make_pipeline\n",
    "from sklearn import metrics\n",
    "from sklearn.linear_model import Ridge\n",
    "from catboost import CatBoostRegressor, Pool\n",
    "\n",
    "import warnings\n",
    "warnings.filterwarnings('ignore')"
   ]
  },
  {
   "cell_type": "code",
   "execution_count": 2,
   "id": "9795a432-3481-403e-8f21-f15c3c0b9bed",
   "metadata": {},
   "outputs": [],
   "source": [
    "data_ace_24 = pd.read_csv(\"Ace_погружение_24часа.csv\", sep=';', decimal=',', parse_dates=['datetime'])\n",
    "data_discover_24 = pd.read_csv(\"Discover_погружение_24часа_до_22.09.2024.csv\", sep=';', decimal=',', parse_dates=['datetime'])\n",
    "data_ace_autocorr = pd.read_csv(\"Ace_погружение_автокорр.csv\", sep=';', decimal=',', parse_dates=['datetime'])\n",
    "data_discover_autocorr = pd.read_csv(\"Discover_погружение_автокорр_до_22.09.2024.csv\", sep=';', decimal=',', parse_dates=['datetime'])"
   ]
  },
  {
   "cell_type": "code",
   "execution_count": 3,
   "id": "0b298976-dc43-4ea7-9fb6-6ae8c85c1793",
   "metadata": {},
   "outputs": [],
   "source": [
    "datasets = [data_ace_24, data_discover_24, data_ace_autocorr, data_discover_autocorr]"
   ]
  },
  {
   "cell_type": "code",
   "execution_count": 4,
   "id": "d0206244-b670-4085-b1eb-15508e5135eb",
   "metadata": {},
   "outputs": [],
   "source": [
    "  for dataset in datasets:\n",
    "    dataset.set_index('datetime', inplace=True)\n",
    "    dataset.dropna(inplace=True)\n",
    "    if not dataset.index.is_monotonic_increasing:\n",
    "        dataset = dataset.sort_index(inplace=True)"
   ]
  },
  {
   "cell_type": "markdown",
   "id": "afe9d994-74d7-4579-b6ef-3b1efd0754a4",
   "metadata": {},
   "source": [
    "#### Разбиения данных на тренировочные и тестовые наборы\n",
    "Обозначения:\\\n",
    "x..._1_24 — горизонт предсказания 1 час, погружение 24 часа на все переменные\\\n",
    "x..._3_a — горизонт предсказания 3 часа, погружение с учётом автокорреляционной функции"
   ]
  },
  {
   "cell_type": "code",
   "execution_count": 5,
   "id": "70c4fc4e-415a-421f-b432-139e16dc96b4",
   "metadata": {},
   "outputs": [],
   "source": [
    "from_index_data = 4 #индекс, с которого начинаются данные о величине ММП и параметрах СВ"
   ]
  },
  {
   "cell_type": "code",
   "execution_count": 6,
   "id": "b755fa49-77d7-4755-ba15-1c8b8268f80f",
   "metadata": {},
   "outputs": [],
   "source": [
    "x_train_ace_3_24, x_test_ace_3_24, y_train_ace_3_24, y_test_ace_3_24 = train_test_split(data_ace_24.iloc[:, from_index_data:], data_ace_24['Dst +3'], test_size=0.15, shuffle=False)\n",
    "x_train_ace_2_24, x_test_ace_2_24, y_train_ace_2_24, y_test_ace_2_24 = train_test_split(data_ace_24.iloc[:, from_index_data:], data_ace_24['Dst +2'], test_size=0.15, shuffle=False)\n",
    "x_train_ace_1_24, x_test_ace_1_24, y_train_ace_1_24, y_test_ace_1_24 = train_test_split(data_ace_24.iloc[:, from_index_data:], data_ace_24['Dst +1'], test_size=0.15, shuffle=False)"
   ]
  },
  {
   "cell_type": "code",
   "execution_count": 7,
   "id": "69edcd33-06fb-4373-bef6-e8b4e1d6c4d6",
   "metadata": {},
   "outputs": [],
   "source": [
    "x_train_disc_3_24, x_test_disc_3_24, y_train_disc_3_24, y_test_disc_3_24 = train_test_split(data_discover_24.iloc[:, from_index_data:], data_discover_24['Dst +3'], test_size=0.15, shuffle=False)\n",
    "x_train_disc_2_24, x_test_disc_2_24, y_train_disc_2_24, y_test_disc_2_24 = train_test_split(data_discover_24.iloc[:, from_index_data:], data_discover_24['Dst +2'], test_size=0.15, shuffle=False)\n",
    "x_train_disc_1_24, x_test_disc_1_24, y_train_disc_1_24, y_test_disc_1_24 = train_test_split(data_discover_24.iloc[:, from_index_data:], data_discover_24['Dst +1'], test_size=0.15, shuffle=False)"
   ]
  },
  {
   "cell_type": "code",
   "execution_count": 8,
   "id": "66cfc6f9-4119-408f-a0a1-b8aec1c6b48b",
   "metadata": {},
   "outputs": [],
   "source": [
    "x_train_ace_3_a, x_test_ace_3_a, y_train_ace_3_a, y_test_ace_3_a = train_test_split(data_ace_autocorr.iloc[:, from_index_data:], data_ace_autocorr['Dst +3'], test_size=0.15, shuffle=False)\n",
    "x_train_ace_2_a, x_test_ace_2_a, y_train_ace_2_a, y_test_ace_2_a = train_test_split(data_ace_autocorr.iloc[:, from_index_data:], data_ace_autocorr['Dst +2'], test_size=0.15, shuffle=False)\n",
    "x_train_ace_1_a, x_test_ace_1_a, y_train_ace_1_a, y_test_ace_1_a = train_test_split(data_ace_autocorr.iloc[:, from_index_data:], data_ace_autocorr['Dst +1'], test_size=0.15, shuffle=False)"
   ]
  },
  {
   "cell_type": "code",
   "execution_count": 9,
   "id": "1d190265-e37e-4f62-9f21-7194e670c31c",
   "metadata": {},
   "outputs": [],
   "source": [
    "x_train_disc_3_a, x_test_disc_3_a, y_train_disc_3_a, y_test_disc_3_a = train_test_split(data_discover_24.iloc[:, from_index_data:], data_discover_24['Dst +3'], test_size=0.15, shuffle=False)\n",
    "x_train_disc_2_a, x_test_disc_2_a, y_train_disc_2_a, y_test_disc_2_a = train_test_split(data_discover_24.iloc[:, from_index_data:], data_discover_24['Dst +2'], test_size=0.15, shuffle=False)\n",
    "x_train_disc_1_a, x_test_disc_1_a, y_train_disc_1_a, y_test_disc_1_a = train_test_split(data_discover_24.iloc[:, from_index_data:], data_discover_24['Dst +1'], test_size=0.15, shuffle=False)"
   ]
  },
  {
   "cell_type": "code",
   "execution_count": 10,
   "id": "217d2dc9-a7a7-4883-a4ac-dad3781207d4",
   "metadata": {},
   "outputs": [],
   "source": [
    "model_cat = CatBoostRegressor(iterations=100,\n",
    "                              depth=2,\n",
    "                              learning_rate=1,\n",
    "                              loss_function='RMSE',\n",
    "                              logging_level='Silent')\n",
    "\n",
    "pipe = make_pipeline(StandardScaler(), LinearRegression())"
   ]
  },
  {
   "cell_type": "markdown",
   "id": "f49000b3-7997-4887-97a1-79541cb5c08a",
   "metadata": {},
   "source": [
    "### Обучение на данных ACE, тестирование на данных ACE"
   ]
  },
  {
   "cell_type": "markdown",
   "id": "4a825722-2fcf-4d19-8bf7-40c39e3815d9",
   "metadata": {},
   "source": [
    "#### Погружение - 24 часа по всем переменным"
   ]
  },
  {
   "cell_type": "code",
   "execution_count": 11,
   "id": "a7cd674d-1815-403a-906e-e33f3a386357",
   "metadata": {},
   "outputs": [],
   "source": [
    "x_train, x_test, y_train_1, y_test_1 = x_train_ace_1_24, x_test_ace_1_24, y_train_ace_1_24, y_test_ace_1_24 #прогноз на 1 час\n",
    "y_train_2, y_test_2 = y_train_ace_2_24, y_test_ace_2_24 #прогноз на 2 часа\n",
    "y_train_3, y_test_3 = y_train_ace_3_24, y_test_ace_3_24 #прогноз на 3 часа"
   ]
  },
  {
   "cell_type": "code",
   "execution_count": 12,
   "id": "0f5daaef-c5ed-4853-bb43-2e6e0cdf915d",
   "metadata": {},
   "outputs": [],
   "source": [
    "for data in [x_train, x_test, y_train_1, y_test_1, y_train_2, y_test_2, y_train_3, y_test_3]:\n",
    "    data = data.to_numpy().astype(float)"
   ]
  },
  {
   "cell_type": "code",
   "execution_count": 13,
   "id": "37493519-6a20-4472-9f5b-1bc333283dbd",
   "metadata": {},
   "outputs": [
    {
     "name": "stdout",
     "output_type": "stream",
     "text": [
      "Прогноз на 1 час:\n",
      "MSE=380.14129275412785 и r^2=-1.9047364117136243 при использовании линейной регрессии, погружение - 24 часа по всем переменным\n",
      "Прогноз на 2 час:\n",
      "MSE=343.4238862273051 и r^2=-1.624360846350167 при использовании линейной регрессии, погружение - 24 часа по всем переменным\n",
      "Прогноз на 3 час:\n",
      "MSE=262.0423883515334 и r^2=-1.001825499982183 при использовании линейной регрессии, погружение - 24 часа по всем переменным\n"
     ]
    }
   ],
   "source": [
    "for i in range(1, 4):\n",
    "  pipe = make_pipeline(StandardScaler(), LinearRegression())\n",
    "  pipe.fit(x_train, eval(f'y_train_{i}'))\n",
    "  y_pred = pipe.predict(x_test)\n",
    "\n",
    "  R_2 = metrics.r2_score(eval(f'y_test_{i}'), y_pred)\n",
    "  MSE = metrics.mean_squared_error(eval(f'y_test_{i}'), y_pred)\n",
    "  MAE = metrics.mean_absolute_error(eval(f'y_test_{i}'), y_pred)\n",
    "\n",
    "  print(f'Прогноз на {i} час:')\n",
    "  print(f'MSE={MSE} и r^2={R_2} при использовании линейной регрессии, погружение - 24 часа по всем переменным')"
   ]
  },
  {
   "cell_type": "code",
   "execution_count": 14,
   "id": "024050b8-085b-431d-b79a-e6c63a7e73d8",
   "metadata": {},
   "outputs": [
    {
     "name": "stdout",
     "output_type": "stream",
     "text": [
      "Прогноз на 1 час:\n",
      "MSE=380.1412804605016 и r^2=-1.9047363177755425 с Lambda=0.01 при использовании линейной регрессии с Ridge-регуляризацией, погружение - 24 часа по всем переменным\n",
      "Прогноз на 1 час:\n",
      "MSE=380.1289996992608 и r^2=-1.904642477998019 с Lambda=10 при использовании линейной регрессии с Ridge-регуляризацией, погружение - 24 часа по всем переменным\n",
      "Прогноз на 1 час:\n",
      "MSE=378.91779370020225 и r^2=-1.8953874082789106 с Lambda=1000 при использовании линейной регрессии с Ridge-регуляризацией, погружение - 24 часа по всем переменным\n",
      "Прогноз на 1 час:\n",
      "MSE=294.02911877207686 и r^2=-1.246735894471036 с Lambda=100000 при использовании линейной регрессии с Ridge-регуляризацией, погружение - 24 часа по всем переменным\n",
      "Прогноз на 1 час:\n",
      "MSE=164.18402225389656 и r^2=-0.2545632814769099 с Lambda=500000 при использовании линейной регрессии с Ridge-регуляризацией, погружение - 24 часа по всем переменным\n",
      "Прогноз на 1 час:\n",
      "MSE=109.10316142994232 и r^2=0.16632070317180336 с Lambda=1000000 при использовании линейной регрессии с Ridge-регуляризацией, погружение - 24 часа по всем переменным\n",
      "Прогноз на 1 час:\n",
      "MSE=42.54021120817532 и r^2=0.674941652449481 с Lambda=5000000 при использовании линейной регрессии с Ridge-регуляризацией, погружение - 24 часа по всем переменным\n",
      "Прогноз на 1 час:\n",
      "MSE=35.58541467836612 и r^2=0.7280846576984865 с Lambda=10000000 при использовании линейной регрессии с Ridge-регуляризацией, погружение - 24 часа по всем переменным\n",
      "Прогноз на 2 час:\n",
      "MSE=343.4238759441758 и r^2=-1.6243607677690224 с Lambda=0.01 при использовании линейной регрессии с Ridge-регуляризацией, погружение - 24 часа по всем переменным\n",
      "Прогноз на 2 час:\n",
      "MSE=343.4136035052994 и r^2=-1.6242822683184461 с Lambda=10 при использовании линейной регрессии с Ridge-регуляризацией, погружение - 24 часа по всем переменным\n",
      "Прогноз на 2 час:\n",
      "MSE=342.3998197245332 и r^2=-1.6165351820859328 с Lambda=1000 при использовании линейной регрессии с Ridge-регуляризацией, погружение - 24 часа по всем переменным\n",
      "Прогноз на 2 час:\n",
      "MSE=268.3261172105321 и r^2=-1.05048217174504 с Lambda=100000 при использовании линейной регрессии с Ridge-регуляризацией, погружение - 24 часа по всем переменным\n",
      "Прогноз на 2 час:\n",
      "MSE=150.7148645247081 и r^2=-0.15172591448639228 с Lambda=500000 при использовании линейной регрессии с Ridge-регуляризацией, погружение - 24 часа по всем переменным\n",
      "Прогноз на 2 час:\n",
      "MSE=102.45211773152623 и r^2=0.2170861224768892 с Lambda=1000000 при использовании линейной регрессии с Ridge-регуляризацией, погружение - 24 часа по всем переменным\n",
      "Прогноз на 2 час:\n",
      "MSE=50.54455693292997 и r^2=0.6137509313399887 с Lambda=5000000 при использовании линейной регрессии с Ridge-регуляризацией, погружение - 24 часа по всем переменным\n",
      "Прогноз на 2 час:\n",
      "MSE=46.68906385609511 и r^2=0.6432136608704632 с Lambda=10000000 при использовании линейной регрессии с Ridge-регуляризацией, погружение - 24 часа по всем переменным\n",
      "Прогноз на 3 час:\n",
      "MSE=262.04238163748397 и r^2=-1.0018254486914144 с Lambda=0.01 при использовании линейной регрессии с Ridge-регуляризацией, погружение - 24 часа по всем переменным\n",
      "Прогноз на 3 час:\n",
      "MSE=262.0356745149994 и r^2=-1.0017742108405252 с Lambda=10 при использовании линейной регрессии с Ridge-регуляризацией, погружение - 24 часа по всем переменным\n",
      "Прогноз на 3 час:\n",
      "MSE=261.37317474958337 и r^2=-0.9967131635325495 с Lambda=1000 при использовании линейной регрессии с Ridge-регуляризацией, погружение - 24 часа по всем переменным\n",
      "Прогноз на 3 час:\n",
      "MSE=210.94052530347355 и r^2=-0.6114420464129433 с Lambda=100000 при использовании линейной регрессии с Ridge-регуляризацией, погружение - 24 часа по всем переменным\n",
      "Прогноз на 3 час:\n",
      "MSE=128.01909930333176 и r^2=0.022021211597382573 с Lambda=500000 при использовании линейной регрессии с Ridge-регуляризацией, погружение - 24 часа по всем переменным\n",
      "Прогноз на 3 час:\n",
      "MSE=94.6569793188635 и r^2=0.27688510189585047 с Lambda=1000000 при использовании линейной регрессии с Ridge-регуляризацией, погружение - 24 часа по всем переменным\n",
      "Прогноз на 3 час:\n",
      "MSE=62.12269933391103 и r^2=0.5254248580289986 с Lambda=5000000 при использовании линейной регрессии с Ridge-регуляризацией, погружение - 24 часа по всем переменным\n",
      "Прогноз на 3 час:\n",
      "MSE=60.01345688237644 и r^2=0.5415380348004701 с Lambda=10000000 при использовании линейной регрессии с Ridge-регуляризацией, погружение - 24 часа по всем переменным\n"
     ]
    }
   ],
   "source": [
    "lambda_values = [0.01, 10, 1000, 100000, 500000, 1000000, 5000000, 10000000]\n",
    "\n",
    "for i in range(1, 4):\n",
    "    for lambda_val in lambda_values:\n",
    "        ridge_reg = Ridge(lambda_val)\n",
    "        ridge_reg.fit(x_train, eval(f'y_train_{i}'))\n",
    "        y_pred = ridge_reg.predict(x_test)\n",
    "        mse_ridge = metrics.mean_squared_error(eval(f'y_test_{i}'), y_pred)\n",
    "        r2_ridge = metrics.r2_score(eval(f'y_test_{i}'), y_pred)\n",
    "        print(f'Прогноз на {i} час:')\n",
    "        print(f'MSE={mse_ridge} и r^2={r2_ridge} с Lambda={lambda_val} при использовании линейной регрессии с Ridge-регуляризацией, погружение - 24 часа по всем переменным')"
   ]
  },
  {
   "cell_type": "code",
   "execution_count": 15,
   "id": "d8c95e33-f780-4ddc-995f-cfc0dd4c58c4",
   "metadata": {},
   "outputs": [
    {
     "name": "stdout",
     "output_type": "stream",
     "text": [
      "Прогноз на 1 час:\n",
      "MSE=17.780049073499466 и r^2=0.8641390532144757 при использовании модели CatBoost, погружение - 24 часа по всем переменным\n",
      "Прогноз на 2 час:\n",
      "MSE=26.271281761213462 и r^2=0.7992413282752022 при использовании модели CatBoost, погружение - 24 часа по всем переменным\n",
      "Прогноз на 3 час:\n",
      "MSE=34.56520860231303 и r^2=0.7359453314877833 при использовании модели CatBoost, погружение - 24 часа по всем переменным\n"
     ]
    }
   ],
   "source": [
    "for i in range(1, 4):\n",
    "    train_pool = Pool(x_train, eval(f'y_train_{i}'), cat_features=[])\n",
    "    test_pool = Pool(x_test, eval(f'y_test_{i}'), cat_features=[])\n",
    "\n",
    "    model_cat.fit(train_pool)\n",
    "    y_pred_cat = model_cat.predict(test_pool)\n",
    "\n",
    "    R_2_catboost = metrics.r2_score(eval(f'y_test_{i}'), y_pred_cat)\n",
    "    MSE_catboost = metrics.mean_squared_error(eval(f'y_test_{i}'), y_pred_cat)\n",
    "\n",
    "    print(f'Прогноз на {i} час:')\n",
    "    print(f'MSE={MSE_catboost} и r^2={R_2_catboost} при использовании модели CatBoost, погружение - 24 часа по всем переменным')"
   ]
  },
  {
   "cell_type": "markdown",
   "id": "b18f560b-dbea-4578-91e4-79719613585f",
   "metadata": {},
   "source": [
    "#### Погружение с учётом автокорреляционной функции"
   ]
  },
  {
   "cell_type": "code",
   "execution_count": 16,
   "id": "45af938c-ab6f-4b50-ad8b-14b1b1a91b36",
   "metadata": {},
   "outputs": [],
   "source": [
    "x_train, x_test, y_train_1, y_test_1 = x_train_ace_1_a, x_test_ace_1_a, y_train_ace_1_a, y_test_ace_1_a #прогноз на 1 час\n",
    "y_train_2, y_test_2 = y_train_ace_2_a, y_test_ace_2_a #прогноз на 2 часа\n",
    "y_train_3, y_test_3 = y_train_ace_3_a, y_test_ace_3_a #прогноз на 3 часа"
   ]
  },
  {
   "cell_type": "code",
   "execution_count": 17,
   "id": "bda0e073-9781-4f04-aa0f-c46847c6932b",
   "metadata": {},
   "outputs": [],
   "source": [
    "for data in [x_train, x_test, y_train_1, y_test_1, y_train_2, y_test_2, y_train_3, y_test_3]:\n",
    "    data = data.to_numpy().astype(float)"
   ]
  },
  {
   "cell_type": "code",
   "execution_count": 18,
   "id": "93f78345-5897-4c42-8fa6-e807aa180a78",
   "metadata": {},
   "outputs": [
    {
     "name": "stdout",
     "output_type": "stream",
     "text": [
      "Прогноз на 1 час:\n",
      "MSE=383.13181431534736 и r^2=-1.9388516170404464 при использовании линейной регрессии, погружение с учётом автокорреляционной функции\n",
      "Прогноз на 2 час:\n",
      "MSE=347.63587482929825 и r^2=-1.667512323123368 при использовании линейной регрессии, погружение с учётом автокорреляционной функции\n",
      "Прогноз на 3 час:\n",
      "MSE=265.78144211913514 и r^2=-1.0385084046212758 при использовании линейной регрессии, погружение с учётом автокорреляционной функции\n"
     ]
    }
   ],
   "source": [
    "for i in range(1, 4):\n",
    "  pipe = make_pipeline(StandardScaler(), LinearRegression())\n",
    "  pipe.fit(x_train, eval(f'y_train_{i}'))\n",
    "  y_pred = pipe.predict(x_test)\n",
    "\n",
    "  R_2 = metrics.r2_score(eval(f'y_test_{i}'), y_pred)\n",
    "  MSE = metrics.mean_squared_error(eval(f'y_test_{i}'), y_pred)\n",
    "  MAE = metrics.mean_absolute_error(eval(f'y_test_{i}'), y_pred)\n",
    "\n",
    "  print(f'Прогноз на {i} час:')\n",
    "  print(f'MSE={MSE} и r^2={R_2} при использовании линейной регрессии, погружение с учётом автокорреляционной функции')"
   ]
  },
  {
   "cell_type": "code",
   "execution_count": 19,
   "id": "6f396b49-3820-4bfb-a886-5484b2af618a",
   "metadata": {},
   "outputs": [
    {
     "name": "stdout",
     "output_type": "stream",
     "text": [
      "Прогноз на 1 час:\n",
      "MSE=383.13180184976176 и r^2=-1.9388515214219018 с Lambda=0.01 при использовании линейной регрессии с Ridge-регуляризацией, погружение с учётом автокорреляционной функции\n",
      "Прогноз на 1 час:\n",
      "MSE=383.1193492660637 и r^2=-1.938756002609916 с Lambda=10 при использовании линейной регрессии с Ridge-регуляризацией, погружение с учётом автокорреляционной функции\n",
      "Прогноз на 1 час:\n",
      "MSE=381.8910576355366 и r^2=-1.9293342665136262 с Lambda=1000 при использовании линейной регрессии с Ridge-регуляризацией, погружение с учётом автокорреляционной функции\n",
      "Прогноз на 1 час:\n",
      "MSE=295.4993075855245 и r^2=-1.2666575457429028 с Lambda=100000 при использовании линейной регрессии с Ridge-регуляризацией, погружение с учётом автокорреляционной функции\n",
      "Прогноз на 1 час:\n",
      "MSE=163.70927456475192 и r^2=-0.2557486700468641 с Lambda=500000 при использовании линейной регрессии с Ridge-регуляризацией, погружение с учётом автокорреляционной функции\n",
      "Прогноз на 1 час:\n",
      "MSE=108.38254751501299 и r^2=0.1686406267444761 с Lambda=1000000 при использовании линейной регрессии с Ridge-регуляризацией, погружение с учётом автокорреляционной функции\n",
      "Прогноз на 1 час:\n",
      "MSE=41.609008697419824 и r^2=0.6808338594580559 с Lambda=5000000 при использовании линейной регрессии с Ridge-регуляризацией, погружение с учётом автокорреляционной функции\n",
      "Прогноз на 1 час:\n",
      "MSE=34.56907929151807 и r^2=0.7348343552283079 с Lambda=10000000 при использовании линейной регрессии с Ridge-регуляризацией, погружение с учётом автокорреляционной функции\n",
      "Прогноз на 2 час:\n",
      "MSE=347.63586435069794 и r^2=-1.6675122427179856 с Lambda=0.01 при использовании линейной регрессии с Ridge-регуляризацией, погружение с учётом автокорреляционной функции\n",
      "Прогноз на 2 час:\n",
      "MSE=347.62539660110684 и r^2=-1.6674319205963304 с Lambda=10 при использовании линейной регрессии с Ridge-регуляризацией, погружение с учётом автокорреляционной функции\n",
      "Прогноз на 2 час:\n",
      "MSE=346.5921468452848 и r^2=-1.6595034912940534 с Lambda=1000 при использовании линейной регрессии с Ridge-регуляризацией, погружение с учётом автокорреляционной функции\n",
      "Прогноз на 2 час:\n",
      "MSE=270.5549965517495 и r^2=-1.076048071099616 с Lambda=100000 при использовании линейной регрессии с Ridge-регуляризацией, погружение с учётом автокорреляционной функции\n",
      "Прогноз на 2 час:\n",
      "MSE=149.35333266061764 и r^2=-0.14603205312849554 с Lambda=500000 при использовании линейной регрессии с Ridge-регуляризацией, погружение с учётом автокорреляционной функции\n",
      "Прогноз на 2 час:\n",
      "MSE=100.24118229635756 и r^2=0.2308199227387272 с Lambda=1000000 при использовании линейной регрессии с Ridge-регуляризацией, погружение с учётом автокорреляционной функции\n",
      "Прогноз на 2 час:\n",
      "MSE=48.48038622105056 и r^2=0.6279957362342581 с Lambda=5000000 при использовании линейной регрессии с Ridge-регуляризацией, погружение с учётом автокорреляционной функции\n",
      "Прогноз на 2 час:\n",
      "MSE=44.88536237208293 и r^2=0.6555814116877839 с Lambda=10000000 при использовании линейной регрессии с Ridge-регуляризацией, погружение с учётом автокорреляционной функции\n",
      "Прогноз на 3 час:\n",
      "MSE=265.7814351184995 и r^2=-1.0385083509273287 с Lambda=0.01 при использовании линейной регрессии с Ridge-регуляризацией, погружение с учётом автокорреляционной функции\n",
      "Прогноз на 3 час:\n",
      "MSE=265.77444165466926 и r^2=-1.0384547119874479 с Lambda=10 при использовании линейной регрессии с Ridge-регуляризацией, погружение с учётом автокорреляционной функции\n",
      "Прогноз на 3 час:\n",
      "MSE=265.08354381653925 и r^2=-1.0331556172179512 с Lambda=1000 при использовании линейной регрессии с Ridge-регуляризацией, погружение с учётом автокорреляционной функции\n",
      "Прогноз на 3 час:\n",
      "MSE=212.11283543465905 и r^2=-0.62687731059787 с Lambda=100000 при использовании линейной регрессии с Ridge-регуляризацией, погружение с учётом автокорреляционной функции\n",
      "Прогноз на 3 час:\n",
      "MSE=124.7538210149608 и r^2=0.043154741655656914 с Lambda=500000 при использовании линейной регрессии с Ridge-регуляризацией, погружение с учётом автокорреляционной функции\n",
      "Прогноз на 3 час:\n",
      "MSE=90.3745451129904 и r^2=0.3068392273450161 с Lambda=1000000 при использовании линейной регрессии с Ridge-регуляризацией, погружение с учётом автокорреляционной функции\n",
      "Прогноз на 3 час:\n",
      "MSE=58.670024904442066 и r^2=0.5500086916774463 с Lambda=5000000 при использовании линейной регрессии с Ridge-регуляризацией, погружение с учётом автокорреляционной функции\n",
      "Прогноз на 3 час:\n",
      "MSE=57.28035372112298 и r^2=0.5606672853108804 с Lambda=10000000 при использовании линейной регрессии с Ridge-регуляризацией, погружение с учётом автокорреляционной функции\n"
     ]
    }
   ],
   "source": [
    "lambda_values = [0.01, 10, 1000, 100000, 500000, 1000000, 5000000, 10000000]\n",
    "\n",
    "for i in range(1, 4):\n",
    "    for lambda_val in lambda_values:\n",
    "        ridge_reg = Ridge(lambda_val)\n",
    "        ridge_reg.fit(x_train, eval(f'y_train_{i}'))\n",
    "        y_pred = ridge_reg.predict(x_test)\n",
    "        mse_ridge = metrics.mean_squared_error(eval(f'y_test_{i}'), y_pred)\n",
    "        r2_ridge = metrics.r2_score(eval(f'y_test_{i}'), y_pred)\n",
    "        print(f'Прогноз на {i} час:')\n",
    "        print(f'MSE={mse_ridge} и r^2={r2_ridge} с Lambda={lambda_val} при использовании линейной регрессии с Ridge-регуляризацией, погружение с учётом автокорреляционной функции')"
   ]
  },
  {
   "cell_type": "code",
   "execution_count": 20,
   "id": "986ccf3b-c8e7-453a-837e-de69e5c4b9b4",
   "metadata": {},
   "outputs": [
    {
     "name": "stdout",
     "output_type": "stream",
     "text": [
      "Прогноз на 1 час:\n",
      "MSE=17.351849001531942 и r^2=0.866900874342893 при использовании модели CatBoost, погружение с учётом автокорреляционной функции\n",
      "Прогноз на 2 час:\n",
      "MSE=25.564030448071023 и r^2=0.803839674825231 при использовании модели CatBoost, погружение с учётом автокорреляционной функции\n",
      "Прогноз на 3 час:\n",
      "MSE=34.17416566756661 и r^2=0.7378886826002407 при использовании модели CatBoost, погружение с учётом автокорреляционной функции\n"
     ]
    }
   ],
   "source": [
    "for i in range(1, 4):\n",
    "    train_pool = Pool(x_train, eval(f'y_train_{i}'), cat_features=[])\n",
    "    test_pool = Pool(x_test, eval(f'y_test_{i}'), cat_features=[])\n",
    "\n",
    "    model_cat.fit(train_pool)\n",
    "    y_pred_cat = model_cat.predict(test_pool)\n",
    "\n",
    "    R_2_catboost = metrics.r2_score(eval(f'y_test_{i}'), y_pred_cat)\n",
    "    MSE_catboost = metrics.mean_squared_error(eval(f'y_test_{i}'), y_pred_cat)\n",
    "\n",
    "    print(f'Прогноз на {i} час:')\n",
    "    print(f'MSE={MSE_catboost} и r^2={R_2_catboost} при использовании модели CatBoost, погружение с учётом автокорреляционной функции')"
   ]
  },
  {
   "cell_type": "markdown",
   "id": "ad25662f-5866-4e28-9db4-d28359479b02",
   "metadata": {},
   "source": [
    "#### Обучение на данных ACE, тестирование на данных DSCOVR"
   ]
  },
  {
   "cell_type": "markdown",
   "id": "7c4fd463-bebe-4efc-9b35-f30ec2e3b9f5",
   "metadata": {},
   "source": [
    "#### Обучение на данных DSCOVR, тестирование на данных ACE"
   ]
  },
  {
   "cell_type": "markdown",
   "id": "75b7fc2a-454b-4ec3-a051-12103b7b1bea",
   "metadata": {},
   "source": [
    "#### Обучение на данных DSCOVR, тестирование на данных DSCOVR"
   ]
  },
  {
   "cell_type": "markdown",
   "id": "c2f3b16e-d5d8-4486-9341-4aa38e24343f",
   "metadata": {},
   "source": [
    "#### Погружение - 24 часа по всем переменным"
   ]
  },
  {
   "cell_type": "code",
   "execution_count": 21,
   "id": "5dcfb09a-62d6-422c-8c0c-eb35e37ff4df",
   "metadata": {},
   "outputs": [],
   "source": [
    "x_train, x_test, y_train_1, y_test_1 = x_train_disc_1_24, x_test_disc_1_24, y_train_disc_1_24, y_test_disc_1_24 #прогноз на 1 час\n",
    "y_train_2, y_test_2 = y_train_disc_2_24, y_test_disc_2_24 #прогноз на 2 часа\n",
    "y_train_3, y_test_3 = y_train_disc_3_24, y_test_disc_3_24 #прогноз на 3 часа"
   ]
  },
  {
   "cell_type": "code",
   "execution_count": 22,
   "id": "238ef220-3f59-44bb-b208-b80baf5da1eb",
   "metadata": {},
   "outputs": [],
   "source": [
    "for data in [x_train, x_test, y_train_1, y_test_1, y_train_2, y_test_2, y_train_3, y_test_3]:\n",
    "    data = data.to_numpy().astype(float)"
   ]
  },
  {
   "cell_type": "code",
   "execution_count": 23,
   "id": "303fd62b-38d2-47f7-98ec-cff07fbe9298",
   "metadata": {},
   "outputs": [
    {
     "name": "stdout",
     "output_type": "stream",
     "text": [
      "Прогноз на 1 час:\n",
      "MSE=14.35971655043237 и r^2=0.8364879138963685 при использовании линейной регрессии, погружение - 24 часа по всем переменным\n",
      "Прогноз на 2 час:\n",
      "MSE=25.791332809132605 и r^2=0.705828815483077 при использовании линейной регрессии, погружение - 24 часа по всем переменным\n",
      "Прогноз на 3 час:\n",
      "MSE=29.742611895541927 и r^2=0.6609102306230588 при использовании линейной регрессии, погружение - 24 часа по всем переменным\n"
     ]
    }
   ],
   "source": [
    "for i in range(1, 4):\n",
    "  pipe = make_pipeline(StandardScaler(), LinearRegression())\n",
    "  pipe.fit(x_train, eval(f'y_train_{i}'))\n",
    "  y_pred = pipe.predict(x_test)\n",
    "\n",
    "  R_2 = metrics.r2_score(eval(f'y_test_{i}'), y_pred)\n",
    "  MSE = metrics.mean_squared_error(eval(f'y_test_{i}'), y_pred)\n",
    "  MAE = metrics.mean_absolute_error(eval(f'y_test_{i}'), y_pred)\n",
    "\n",
    "  print(f'Прогноз на {i} час:')\n",
    "  print(f'MSE={MSE} и r^2={R_2} при использовании линейной регрессии, погружение - 24 часа по всем переменным')"
   ]
  },
  {
   "cell_type": "code",
   "execution_count": 24,
   "id": "2f1b1451-8392-4d68-8b36-133cb2f9bfb8",
   "metadata": {},
   "outputs": [
    {
     "name": "stdout",
     "output_type": "stream",
     "text": [
      "Прогноз на 1 час:\n",
      "MSE=14.359716094399884 и r^2=0.8364879190891465 с Lambda=0.01 при использовании линейной регрессии с Ridge-регуляризацией, погружение - 24 часа по всем переменным\n",
      "Прогноз на 1 час:\n",
      "MSE=14.359261032483158 и r^2=0.8364931008156138 с Lambda=10 при использовании линейной регрессии с Ridge-регуляризацией, погружение - 24 часа по всем переменным\n",
      "Прогноз на 1 час:\n",
      "MSE=14.318515898812452 и r^2=0.8369570599600489 с Lambda=1000 при использовании линейной регрессии с Ridge-регуляризацией, погружение - 24 часа по всем переменным\n",
      "Прогноз на 1 час:\n",
      "MSE=14.300400905855401 и r^2=0.8371633328539292 с Lambda=100000 при использовании линейной регрессии с Ridge-регуляризацией, погружение - 24 часа по всем переменным\n",
      "Прогноз на 1 час:\n",
      "MSE=16.58943427598903 и r^2=0.8110984296786569 с Lambda=500000 при использовании линейной регрессии с Ridge-регуляризацией, погружение - 24 часа по всем переменным\n",
      "Прогноз на 1 час:\n",
      "MSE=18.656493403532338 и r^2=0.7875611161908094 с Lambda=1000000 при использовании линейной регрессии с Ridge-регуляризацией, погружение - 24 часа по всем переменным\n",
      "Прогноз на 1 час:\n",
      "MSE=26.53634868757098 и r^2=0.6978343049990461 с Lambda=5000000 при использовании линейной регрессии с Ridge-регуляризацией, погружение - 24 часа по всем переменным\n",
      "Прогноз на 1 час:\n",
      "MSE=31.44427193501774 и r^2=0.6419484686868826 с Lambda=10000000 при использовании линейной регрессии с Ridge-регуляризацией, погружение - 24 часа по всем переменным\n",
      "Прогноз на 2 час:\n",
      "MSE=25.79133250887612 и r^2=0.7058288189077471 с Lambda=0.01 при использовании линейной регрессии с Ridge-регуляризацией, погружение - 24 часа по всем переменным\n",
      "Прогноз на 2 час:\n",
      "MSE=25.791032713427473 и r^2=0.7058322383193336 с Lambda=10 при использовании линейной регрессии с Ridge-регуляризацией, погружение - 24 часа по всем переменным\n",
      "Прогноз на 2 час:\n",
      "MSE=25.76279632552274 и r^2=0.7061542973512528 с Lambda=1000 при использовании линейной регрессии с Ridge-регуляризацией, погружение - 24 часа по всем переменным\n",
      "Прогноз на 2 час:\n",
      "MSE=25.75387640562558 и r^2=0.7062560363122192 с Lambda=100000 при использовании линейной регрессии с Ridge-регуляризацией, погружение - 24 часа по всем переменным\n",
      "Прогноз на 2 час:\n",
      "MSE=28.043167633694182 и r^2=0.6801448028506171 с Lambda=500000 при использовании линейной регрессии с Ridge-регуляризацией, погружение - 24 часа по всем переменным\n",
      "Прогноз на 2 час:\n",
      "MSE=29.880767635603043 и r^2=0.65918547619502 с Lambda=1000000 при использовании линейной регрессии с Ridge-регуляризацией, погружение - 24 часа по всем переменным\n",
      "Прогноз на 2 час:\n",
      "MSE=35.906547462778704 и r^2=0.5904565430097303 с Lambda=5000000 при использовании линейной регрессии с Ridge-регуляризацией, погружение - 24 часа по всем переменным\n",
      "Прогноз на 2 час:\n",
      "MSE=39.47630812850421 и r^2=0.5497405113393333 с Lambda=10000000 при использовании линейной регрессии с Ridge-регуляризацией, погружение - 24 часа по всем переменным\n",
      "Прогноз на 3 час:\n",
      "MSE=29.74261164815883 и r^2=0.6609102334434256 с Lambda=0.01 при использовании линейной регрессии с Ridge-регуляризацией, погружение - 24 часа по всем переменным\n",
      "Прогноз на 3 час:\n",
      "MSE=29.74236469443834 и r^2=0.6609130489150601 с Lambda=10 при использовании линейной регрессии с Ridge-регуляризацией, погружение - 24 часа по всем переменным\n",
      "Прогноз на 3 час:\n",
      "MSE=29.71954113464849 и r^2=0.6611732559087391 с Lambda=1000 при использовании линейной регрессии с Ridge-регуляризацией, погружение - 24 часа по всем переменным\n",
      "Прогноз на 3 час:\n",
      "MSE=29.867877523036718 и r^2=0.6594821014161402 с Lambda=100000 при использовании линейной регрессии с Ridge-регуляризацией, погружение - 24 часа по всем переменным\n",
      "Прогноз на 3 час:\n",
      "MSE=31.801611236861927 и r^2=0.637435977109361 с Lambda=500000 при использовании линейной регрессии с Ridge-регуляризацией, погружение - 24 часа по всем переменным\n",
      "Прогноз на 3 час:\n",
      "MSE=33.390391912177435 и r^2=0.6193225957198796 с Lambda=1000000 при использовании линейной регрессии с Ridge-регуляризацией, погружение - 24 часа по всем переменным\n",
      "Прогноз на 3 час:\n",
      "MSE=38.77796937844624 и r^2=0.5578998663727196 с Lambda=5000000 при использовании линейной регрессии с Ridge-регуляризацией, погружение - 24 часа по всем переменным\n",
      "Прогноз на 3 час:\n",
      "MSE=42.020716670369126 и r^2=0.520929931276648 с Lambda=10000000 при использовании линейной регрессии с Ridge-регуляризацией, погружение - 24 часа по всем переменным\n"
     ]
    }
   ],
   "source": [
    "lambda_values = [0.01, 10, 1000, 100000, 500000, 1000000, 5000000, 10000000]\n",
    "\n",
    "for i in range(1, 4):\n",
    "    for lambda_val in lambda_values:\n",
    "        ridge_reg = Ridge(lambda_val)\n",
    "        ridge_reg.fit(x_train, eval(f'y_train_{i}'))\n",
    "        y_pred = ridge_reg.predict(x_test)\n",
    "        mse_ridge = metrics.mean_squared_error(eval(f'y_test_{i}'), y_pred)\n",
    "        r2_ridge = metrics.r2_score(eval(f'y_test_{i}'), y_pred)\n",
    "        print(f'Прогноз на {i} час:')\n",
    "        print(f'MSE={mse_ridge} и r^2={r2_ridge} с Lambda={lambda_val} при использовании линейной регрессии с Ridge-регуляризацией, погружение - 24 часа по всем переменным')"
   ]
  },
  {
   "cell_type": "code",
   "execution_count": 25,
   "id": "426a5ad3-8744-4a54-bb9e-f3d1e6876e82",
   "metadata": {},
   "outputs": [
    {
     "name": "stdout",
     "output_type": "stream",
     "text": [
      "Прогноз на 1 час:\n",
      "MSE=15.125014385857614 и r^2=0.827773574367347 при использовании модели CatBoost, погружение - 24 часа по всем переменным\n",
      "Прогноз на 2 час:\n",
      "MSE=29.749626935260025 и r^2=0.660681242832742 при использовании модели CatBoost, погружение - 24 часа по всем переменным\n",
      "Прогноз на 3 час:\n",
      "MSE=33.7899697191418 и r^2=0.6147670863756582 при использовании модели CatBoost, погружение - 24 часа по всем переменным\n"
     ]
    }
   ],
   "source": [
    "for i in range(1, 4):\n",
    "    train_pool = Pool(x_train, eval(f'y_train_{i}'), cat_features=[])\n",
    "    test_pool = Pool(x_test, eval(f'y_test_{i}'), cat_features=[])\n",
    "\n",
    "    model_cat.fit(train_pool)\n",
    "    y_pred_cat = model_cat.predict(test_pool)\n",
    "\n",
    "    R_2_catboost = metrics.r2_score(eval(f'y_test_{i}'), y_pred_cat)\n",
    "    MSE_catboost = metrics.mean_squared_error(eval(f'y_test_{i}'), y_pred_cat)\n",
    "\n",
    "    print(f'Прогноз на {i} час:')\n",
    "    print(f'MSE={MSE_catboost} и r^2={R_2_catboost} при использовании модели CatBoost, погружение - 24 часа по всем переменным')"
   ]
  },
  {
   "cell_type": "markdown",
   "id": "852f7494-3b50-480e-a7df-b1f6f05cc271",
   "metadata": {},
   "source": [
    "#### Погружение с учётом автокорреляционной функции"
   ]
  },
  {
   "cell_type": "code",
   "execution_count": 26,
   "id": "c2e8db37-eccd-4f3c-95bb-475e689aee4a",
   "metadata": {},
   "outputs": [],
   "source": [
    "x_train, x_test, y_train_1, y_test_1 = x_train_disc_1_a, x_test_disc_1_a, y_train_disc_1_a, y_test_disc_1_a #прогноз на 1 час\n",
    "y_train_2, y_test_2 = y_train_disc_2_a, y_test_disc_2_a #прогноз на 2 часа\n",
    "y_train_3, y_test_3 = y_train_disc_3_a, y_test_disc_3_a #прогноз на 3 часа"
   ]
  },
  {
   "cell_type": "code",
   "execution_count": 27,
   "id": "393749cf-b49c-4b3d-baef-b85649b44cae",
   "metadata": {},
   "outputs": [],
   "source": [
    "for data in [x_train, x_test, y_train_1, y_test_1, y_train_2, y_test_2, y_train_3, y_test_3]:\n",
    "    data = data.to_numpy().astype(float)"
   ]
  },
  {
   "cell_type": "code",
   "execution_count": 28,
   "id": "e6e0d582-2949-4f9f-8854-6bbe53d2ef9d",
   "metadata": {},
   "outputs": [
    {
     "name": "stdout",
     "output_type": "stream",
     "text": [
      "Прогноз на 1 час:\n",
      "MSE=14.35971655043237 и r^2=0.8364879138963685 при использовании линейной регрессии, погружение с учётом автокорреляционной функции\n",
      "Прогноз на 2 час:\n",
      "MSE=25.791332809132605 и r^2=0.705828815483077 при использовании линейной регрессии, погружение с учётом автокорреляционной функции\n",
      "Прогноз на 3 час:\n",
      "MSE=29.742611895541927 и r^2=0.6609102306230588 при использовании линейной регрессии, погружение с учётом автокорреляционной функции\n"
     ]
    }
   ],
   "source": [
    "for i in range(1, 4):\n",
    "  pipe = make_pipeline(StandardScaler(), LinearRegression())\n",
    "  pipe.fit(x_train, eval(f'y_train_{i}'))\n",
    "  y_pred = pipe.predict(x_test)\n",
    "\n",
    "  R_2 = metrics.r2_score(eval(f'y_test_{i}'), y_pred)\n",
    "  MSE = metrics.mean_squared_error(eval(f'y_test_{i}'), y_pred)\n",
    "  MAE = metrics.mean_absolute_error(eval(f'y_test_{i}'), y_pred)\n",
    "\n",
    "  print(f'Прогноз на {i} час:')\n",
    "  print(f'MSE={MSE} и r^2={R_2} при использовании линейной регрессии, погружение с учётом автокорреляционной функции')"
   ]
  },
  {
   "cell_type": "code",
   "execution_count": 29,
   "id": "b83be2f9-8f53-4ddb-97b7-cfe093e19071",
   "metadata": {},
   "outputs": [
    {
     "name": "stdout",
     "output_type": "stream",
     "text": [
      "Прогноз на 1 час:\n",
      "MSE=14.359716094399884 и r^2=0.8364879190891465 с Lambda=0.01 при использовании линейной регрессии с Ridge-регуляризацией, погружение с учётом автокорреляционной функции\n",
      "Прогноз на 1 час:\n",
      "MSE=14.359261032483158 и r^2=0.8364931008156138 с Lambda=10 при использовании линейной регрессии с Ridge-регуляризацией, погружение с учётом автокорреляционной функции\n",
      "Прогноз на 1 час:\n",
      "MSE=14.318515898812452 и r^2=0.8369570599600489 с Lambda=1000 при использовании линейной регрессии с Ridge-регуляризацией, погружение с учётом автокорреляционной функции\n",
      "Прогноз на 1 час:\n",
      "MSE=14.300400905855401 и r^2=0.8371633328539292 с Lambda=100000 при использовании линейной регрессии с Ridge-регуляризацией, погружение с учётом автокорреляционной функции\n",
      "Прогноз на 1 час:\n",
      "MSE=16.58943427598903 и r^2=0.8110984296786569 с Lambda=500000 при использовании линейной регрессии с Ridge-регуляризацией, погружение с учётом автокорреляционной функции\n",
      "Прогноз на 1 час:\n",
      "MSE=18.656493403532338 и r^2=0.7875611161908094 с Lambda=1000000 при использовании линейной регрессии с Ridge-регуляризацией, погружение с учётом автокорреляционной функции\n",
      "Прогноз на 1 час:\n",
      "MSE=26.53634868757098 и r^2=0.6978343049990461 с Lambda=5000000 при использовании линейной регрессии с Ridge-регуляризацией, погружение с учётом автокорреляционной функции\n",
      "Прогноз на 1 час:\n",
      "MSE=31.44427193501774 и r^2=0.6419484686868826 с Lambda=10000000 при использовании линейной регрессии с Ridge-регуляризацией, погружение с учётом автокорреляционной функции\n",
      "Прогноз на 2 час:\n",
      "MSE=25.79133250887612 и r^2=0.7058288189077471 с Lambda=0.01 при использовании линейной регрессии с Ridge-регуляризацией, погружение с учётом автокорреляционной функции\n",
      "Прогноз на 2 час:\n",
      "MSE=25.791032713427473 и r^2=0.7058322383193336 с Lambda=10 при использовании линейной регрессии с Ridge-регуляризацией, погружение с учётом автокорреляционной функции\n",
      "Прогноз на 2 час:\n",
      "MSE=25.76279632552274 и r^2=0.7061542973512528 с Lambda=1000 при использовании линейной регрессии с Ridge-регуляризацией, погружение с учётом автокорреляционной функции\n",
      "Прогноз на 2 час:\n",
      "MSE=25.75387640562558 и r^2=0.7062560363122192 с Lambda=100000 при использовании линейной регрессии с Ridge-регуляризацией, погружение с учётом автокорреляционной функции\n",
      "Прогноз на 2 час:\n",
      "MSE=28.043167633694182 и r^2=0.6801448028506171 с Lambda=500000 при использовании линейной регрессии с Ridge-регуляризацией, погружение с учётом автокорреляционной функции\n",
      "Прогноз на 2 час:\n",
      "MSE=29.880767635603043 и r^2=0.65918547619502 с Lambda=1000000 при использовании линейной регрессии с Ridge-регуляризацией, погружение с учётом автокорреляционной функции\n",
      "Прогноз на 2 час:\n",
      "MSE=35.906547462778704 и r^2=0.5904565430097303 с Lambda=5000000 при использовании линейной регрессии с Ridge-регуляризацией, погружение с учётом автокорреляционной функции\n",
      "Прогноз на 2 час:\n",
      "MSE=39.47630812850421 и r^2=0.5497405113393333 с Lambda=10000000 при использовании линейной регрессии с Ridge-регуляризацией, погружение с учётом автокорреляционной функции\n",
      "Прогноз на 3 час:\n",
      "MSE=29.74261164815883 и r^2=0.6609102334434256 с Lambda=0.01 при использовании линейной регрессии с Ridge-регуляризацией, погружение с учётом автокорреляционной функции\n",
      "Прогноз на 3 час:\n",
      "MSE=29.74236469443834 и r^2=0.6609130489150601 с Lambda=10 при использовании линейной регрессии с Ridge-регуляризацией, погружение с учётом автокорреляционной функции\n",
      "Прогноз на 3 час:\n",
      "MSE=29.71954113464849 и r^2=0.6611732559087391 с Lambda=1000 при использовании линейной регрессии с Ridge-регуляризацией, погружение с учётом автокорреляционной функции\n",
      "Прогноз на 3 час:\n",
      "MSE=29.867877523036718 и r^2=0.6594821014161402 с Lambda=100000 при использовании линейной регрессии с Ridge-регуляризацией, погружение с учётом автокорреляционной функции\n",
      "Прогноз на 3 час:\n",
      "MSE=31.801611236861927 и r^2=0.637435977109361 с Lambda=500000 при использовании линейной регрессии с Ridge-регуляризацией, погружение с учётом автокорреляционной функции\n",
      "Прогноз на 3 час:\n",
      "MSE=33.390391912177435 и r^2=0.6193225957198796 с Lambda=1000000 при использовании линейной регрессии с Ridge-регуляризацией, погружение с учётом автокорреляционной функции\n",
      "Прогноз на 3 час:\n",
      "MSE=38.77796937844624 и r^2=0.5578998663727196 с Lambda=5000000 при использовании линейной регрессии с Ridge-регуляризацией, погружение с учётом автокорреляционной функции\n",
      "Прогноз на 3 час:\n",
      "MSE=42.020716670369126 и r^2=0.520929931276648 с Lambda=10000000 при использовании линейной регрессии с Ridge-регуляризацией, погружение с учётом автокорреляционной функции\n"
     ]
    }
   ],
   "source": [
    "lambda_values = [0.01, 10, 1000, 100000, 500000, 1000000, 5000000, 10000000]\n",
    "\n",
    "for i in range(1, 4):\n",
    "    for lambda_val in lambda_values:\n",
    "        ridge_reg = Ridge(lambda_val)\n",
    "        ridge_reg.fit(x_train, eval(f'y_train_{i}'))\n",
    "        y_pred = ridge_reg.predict(x_test)\n",
    "        mse_ridge = metrics.mean_squared_error(eval(f'y_test_{i}'), y_pred)\n",
    "        r2_ridge = metrics.r2_score(eval(f'y_test_{i}'), y_pred)\n",
    "        print(f'Прогноз на {i} час:')\n",
    "        print(f'MSE={mse_ridge} и r^2={r2_ridge} с Lambda={lambda_val} при использовании линейной регрессии с Ridge-регуляризацией, погружение с учётом автокорреляционной функции')"
   ]
  },
  {
   "cell_type": "code",
   "execution_count": 30,
   "id": "4c98d6ed-0e9a-42b7-a9ec-79862198fbc5",
   "metadata": {},
   "outputs": [
    {
     "name": "stdout",
     "output_type": "stream",
     "text": [
      "Прогноз на 1 час:\n",
      "MSE=15.125014385857614 и r^2=0.827773574367347 при использовании модели CatBoost, погружение с учётом автокорреляционной функции\n",
      "Прогноз на 2 час:\n",
      "MSE=29.749626935260025 и r^2=0.660681242832742 при использовании модели CatBoost, погружение с учётом автокорреляционной функции\n",
      "Прогноз на 3 час:\n",
      "MSE=33.7899697191418 и r^2=0.6147670863756582 при использовании модели CatBoost, погружение с учётом автокорреляционной функции\n"
     ]
    }
   ],
   "source": [
    "for i in range(1, 4):\n",
    "    train_pool = Pool(x_train, eval(f'y_train_{i}'), cat_features=[])\n",
    "    test_pool = Pool(x_test, eval(f'y_test_{i}'), cat_features=[])\n",
    "\n",
    "    model_cat.fit(train_pool)\n",
    "    y_pred_cat = model_cat.predict(test_pool)\n",
    "\n",
    "    R_2_catboost = metrics.r2_score(eval(f'y_test_{i}'), y_pred_cat)\n",
    "    MSE_catboost = metrics.mean_squared_error(eval(f'y_test_{i}'), y_pred_cat)\n",
    "\n",
    "    print(f'Прогноз на {i} час:')\n",
    "    print(f'MSE={MSE_catboost} и r^2={R_2_catboost} при использовании модели CatBoost, погружение с учётом автокорреляционной функции')"
   ]
  }
 ],
 "metadata": {
  "kernelspec": {
   "display_name": "Python 3 (ipykernel)",
   "language": "python",
   "name": "python3"
  },
  "language_info": {
   "codemirror_mode": {
    "name": "ipython",
    "version": 3
   },
   "file_extension": ".py",
   "mimetype": "text/x-python",
   "name": "python",
   "nbconvert_exporter": "python",
   "pygments_lexer": "ipython3",
   "version": "3.10.0"
  }
 },
 "nbformat": 4,
 "nbformat_minor": 5
}
