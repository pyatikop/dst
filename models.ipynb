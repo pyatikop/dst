{
 "cells": [
  {
   "cell_type": "code",
   "execution_count": 1,
   "id": "5223e176-8e35-4d54-be67-627943ef0781",
   "metadata": {},
   "outputs": [],
   "source": [
    "import pandas as pd\n",
    "import numpy as np\n",
    "from matplotlib import pyplot as plt\n",
    "from sklearn.model_selection import train_test_split\n",
    "from sklearn import metrics\n",
    "from sklearn.linear_model import LinearRegression\n",
    "from sklearn.linear_model import Ridge\n",
    "from sklearn.preprocessing import StandardScaler\n",
    "from sklearn.pipeline import Pipeline\n",
    "from sklearn.pipeline import make_pipeline\n",
    "from catboost import CatBoostRegressor, Pool\n",
    "\n",
    "# import torch\n",
    "# import torch.nn as nn\n",
    "\n",
    "import warnings\n",
    "warnings.filterwarnings('ignore')"
   ]
  },
  {
   "cell_type": "code",
   "execution_count": 2,
   "id": "dd2b7494-fa93-45fd-ae82-5b3ecd037c4f",
   "metadata": {},
   "outputs": [],
   "source": [
    "data_ace_24 = pd.read_csv(\"Ace_погружение_24часа.csv\", sep=';', decimal=',', parse_dates=['datetime'])\n",
    "data_discover_24 = pd.read_csv(\"Discover_погружение_24часа_до_22.09.2024.csv\", sep=';', decimal=',', parse_dates=['datetime'])\n",
    "data_ace_autocorr = pd.read_csv(\"Ace_погружение_автокорр.csv\", sep=';', decimal=',', parse_dates=['datetime'])\n",
    "data_discover_autocorr = pd.read_csv(\"Discover_погружение_автокорр_до_22.09.2024.csv\", sep=';', decimal=',', parse_dates=['datetime'])"
   ]
  },
  {
   "cell_type": "code",
   "execution_count": 3,
   "id": "64de32dc-0c3b-4a38-a4e8-53be95d42b2d",
   "metadata": {},
   "outputs": [],
   "source": [
    "datasets = [data_ace_24, data_discover_24, data_ace_autocorr, data_discover_autocorr]"
   ]
  },
  {
   "cell_type": "code",
   "execution_count": 4,
   "id": "9b14e7db-a1cc-43ad-8854-71ad70f20cd4",
   "metadata": {},
   "outputs": [],
   "source": [
    "for dataset in datasets:\n",
    "    dataset.set_index('datetime', inplace=True)\n",
    "    dataset.dropna(inplace=True)\n",
    "    if not dataset.index.is_monotonic_increasing:\n",
    "        dataset.sort_index(inplace=True)"
   ]
  },
  {
   "cell_type": "code",
   "execution_count": 5,
   "id": "4ac1c132-7ff4-4557-b562-0dbbf3e4c16d",
   "metadata": {},
   "outputs": [],
   "source": [
    "from_index_dst_data = data_ace_24.columns.get_loc('Dst') #индекс, с которого начинаются данные о нынешнем и предыдущих значениях Dst, величине ММП и параметрах СВ\n",
    "hour_horizont = 3\n",
    "target_columns = ['Dst +1', 'Dst +2', 'Dst +3']"
   ]
  },
  {
   "cell_type": "markdown",
   "id": "98fda950-6b2b-4e72-bbe8-f7a3f7dbda74",
   "metadata": {},
   "source": [
    "### Модели"
   ]
  },
  {
   "cell_type": "code",
   "execution_count": 6,
   "id": "ec9e1e58-f63e-4d56-99b8-71ea4bcc2a9e",
   "metadata": {},
   "outputs": [],
   "source": [
    "model_cat = CatBoostRegressor(iterations=500,\n",
    "                              depth=2,\n",
    "                              learning_rate=1,\n",
    "                              loss_function='RMSE',\n",
    "                              logging_level='Silent',\n",
    "                              early_stopping_rounds=40)\n",
    "\n",
    "pipe = make_pipeline(StandardScaler(), LinearRegression())"
   ]
  },
  {
   "cell_type": "code",
   "execution_count": 7,
   "id": "cd0eee8c-6e28-4077-be92-e53a4eac886e",
   "metadata": {},
   "outputs": [],
   "source": [
    "def linear_regression(x_train, x_test, y_train_1, y_test_1, y_train_2, y_test_2, y_train_3, y_test_3, depth, results):\n",
    "    y_trains = [y_train_1, y_train_2, y_train_3]\n",
    "    y_tests = [y_test_1, y_test_2, y_test_3]\n",
    "\n",
    "    for i in range(len(y_trains)):\n",
    "        pipe.fit(x_train, y_trains[i])\n",
    "        y_pred = pipe.predict(x_test)\n",
    "\n",
    "        r_2 = metrics.r2_score(y_tests[i], y_pred)\n",
    "        mse = metrics.mean_squared_error(y_tests[i], y_pred)\n",
    "\n",
    "        # print(f'Прогноз на {i+1} час:')\n",
    "        # print(f'MSE={mse} и r^2={r_2} линейная регрессия, погружение - {depth}')\n",
    "\n",
    "        new_row = {\n",
    "            'Способ обучения': type_train_test,\n",
    "            'Глубина погружения': depth,\n",
    "            'Модель': 'Линейная регрессия',\n",
    "            'Горизонт предсказания': f'Dst +{i+1}',\n",
    "            'R_2 score': r_2,\n",
    "            'MSE': mse\n",
    "        }\n",
    "        results = pd.concat([results, pd.DataFrame([new_row])], ignore_index=True)\n",
    "    return results"
   ]
  },
  {
   "cell_type": "code",
   "execution_count": 8,
   "id": "584dcd6d-e3bd-4d9e-a38f-3b681843ba3e",
   "metadata": {},
   "outputs": [],
   "source": [
    "def linear_regression_ridge(x_train, x_test, y_train_1, y_test_1, y_train_2, y_test_2, y_train_3, y_test_3, depth, lambda_values, results):\n",
    "    y_trains = [y_train_1, y_train_2, y_train_3]\n",
    "    y_tests = [y_test_1, y_test_2, y_test_3]\n",
    "\n",
    "    for lambda_val in lambda_values:\n",
    "        for i in range(len(y_trains)):\n",
    "            ridge_reg = Ridge(lambda_val)\n",
    "            ridge_reg.fit(x_train, y_trains[i])\n",
    "            y_pred = ridge_reg.predict(x_test)\n",
    "            \n",
    "            r_2 = metrics.r2_score(y_tests[i], y_pred)\n",
    "            mse = metrics.mean_squared_error(y_tests[i], y_pred)\n",
    "            \n",
    "            # print(f'Прогноз на {i+1} час:')\n",
    "            # print(f'MSE={mse} и r^2={r_2} с Lambda={lambda_val} линейная регрессия с Ridge-регуляризацией, погружение - {depth}')\n",
    "\n",
    "            new_row = {\n",
    "                'Способ обучения': type_train_test,\n",
    "                'Глубина погружения': depth,\n",
    "                'Модель': f'Линейная регрессия c регуляризацией lambda={lambda_val}',\n",
    "                'Горизонт предсказания': f'Dst +{i+1}',\n",
    "                'R_2 score': r_2,\n",
    "                'MSE': mse\n",
    "            }\n",
    "\n",
    "            results = pd.concat([results, pd.DataFrame([new_row])], ignore_index=True)\n",
    "    return results"
   ]
  },
  {
   "cell_type": "code",
   "execution_count": 9,
   "id": "65037177-20d5-44f9-b610-fdf902587c48",
   "metadata": {},
   "outputs": [],
   "source": [
    "def catboost(x_train, x_test, y_train_1, y_test_1, y_train_2, y_test_2, y_train_3, y_test_3, depth, results):\n",
    "    y_trains = [y_train_1, y_train_2, y_train_3]\n",
    "    y_tests = [y_test_1, y_test_2, y_test_3]\n",
    "\n",
    "    for i in range(len(y_trains)):\n",
    "        train_pool = Pool(x_train, y_trains[i], cat_features=[])\n",
    "        test_pool = Pool(x_test, y_tests[i], cat_features=[])\n",
    "\n",
    "        model_cat.fit(train_pool)\n",
    "        y_pred = model_cat.predict(test_pool)\n",
    "\n",
    "        r_2 = metrics.r2_score(y_tests[i], y_pred)\n",
    "        mse = metrics.mean_squared_error(y_tests[i], y_pred)\n",
    "\n",
    "        # print(f'Прогноз на {i+1} час:')\n",
    "        # print(f'MSE={mse} и r^2={r_2}  CatBoost, погружение - {depth}')\n",
    "\n",
    "        new_row = {\n",
    "            'Способ обучения': type_train_test,\n",
    "            'Глубина погружения': depth,\n",
    "            'Модель': 'CatBoost',\n",
    "            'Горизонт предсказания': f'Dst +{i+1}',\n",
    "            'R_2 score': r_2,\n",
    "            'MSE': mse\n",
    "        }\n",
    "\n",
    "        results = pd.concat([results, pd.DataFrame([new_row])], ignore_index=True)  \n",
    "    return results"
   ]
  },
  {
   "cell_type": "markdown",
   "id": "e6262961-7d91-4164-9e04-04f1c17387c4",
   "metadata": {},
   "source": [
    "#### Разбиения данных на тренировочные и тестовые наборы"
   ]
  },
  {
   "cell_type": "code",
   "execution_count": 10,
   "id": "0b311815-e1e2-4a65-ae99-d51485ccf73c",
   "metadata": {},
   "outputs": [],
   "source": [
    "def split_data(data, target_columns, test_size=0.15, shuffle=False):\n",
    "    y_train = {i+1: None for i in range(hour_horizont)}\n",
    "    y_test = {i+1: None for i in range(hour_horizont)}\n",
    "    for i, target_col in enumerate(target_columns, start=1):\n",
    "        x_train, x_test, y_train[i], y_test[i] = train_test_split(data.iloc[:, from_index_dst_data:], data[target_col], test_size=test_size, shuffle=shuffle)\n",
    "    return x_train, x_test, y_train[1], y_test[1], y_train[2], y_test[2], y_train[3], y_test[3]"
   ]
  },
  {
   "cell_type": "markdown",
   "id": "f417dc2f-ec59-45ba-9457-90be7deab921",
   "metadata": {},
   "source": [
    "#### Создание пустого датафрейма для записи результатов"
   ]
  },
  {
   "cell_type": "code",
   "execution_count": 11,
   "id": "e88a7419-8f4d-489a-a48d-1900f86f221f",
   "metadata": {},
   "outputs": [],
   "source": [
    "results = pd.DataFrame()\n",
    "columns = ['Способ обучения', 'Глубина погружения', 'Модель', 'Горизонт предсказания', 'R_2 score', 'MSE']\n",
    "\n",
    "results = pd.DataFrame(columns=columns)"
   ]
  },
  {
   "cell_type": "markdown",
   "id": "aec68569-a68b-44db-9ca6-8708f931482d",
   "metadata": {},
   "source": [
    "### Обучение на данных ACE, тестирование на данных ACE"
   ]
  },
  {
   "cell_type": "code",
   "execution_count": 12,
   "id": "510d95ee-76d0-45bb-948f-551df5e8256f",
   "metadata": {},
   "outputs": [],
   "source": [
    "type_train_test = 'ACE-ACE'"
   ]
  },
  {
   "cell_type": "markdown",
   "id": "e42c7f64-4bab-4604-aef8-fc2edb0f8095",
   "metadata": {},
   "source": [
    "#### Погружение - 24 часа по всем переменным"
   ]
  },
  {
   "cell_type": "code",
   "execution_count": 13,
   "id": "64fc738b-be66-4bc8-be8b-e5a03b7405a9",
   "metadata": {},
   "outputs": [],
   "source": [
    "x_train, x_test, y_train_1, y_test_1, y_train_2, y_test_2, y_train_3, y_test_3 = split_data(data_ace_24, target_columns)"
   ]
  },
  {
   "cell_type": "code",
   "execution_count": 14,
   "id": "5b9bcf22-739a-4f71-8c7c-5c89db22253b",
   "metadata": {},
   "outputs": [],
   "source": [
    "lambda_values = [1000000, 5000000, 10000000]"
   ]
  },
  {
   "cell_type": "code",
   "execution_count": 15,
   "id": "4d9d8501-a6ab-4ee8-83bb-942ebb029724",
   "metadata": {},
   "outputs": [],
   "source": [
    "results = linear_regression(x_train, x_test, y_train_1, y_test_1, y_train_2, y_test_2, y_train_3, y_test_3, '24 часа', results)\n",
    "results = linear_regression_ridge(x_train, x_test, y_train_1, y_test_1, y_train_2, y_test_2, y_train_3, y_test_3, '24 часа', lambda_values, results)\n",
    "results = catboost(x_train, x_test, y_train_1, y_test_1, y_train_2, y_test_2, y_train_3, y_test_3, '24 часа', results)"
   ]
  },
  {
   "cell_type": "markdown",
   "id": "8c7e8c55-50f8-436e-b53c-c06679c23f44",
   "metadata": {},
   "source": [
    "#### Погружение с учётом автокорреляционной функции"
   ]
  },
  {
   "cell_type": "code",
   "execution_count": 16,
   "id": "814c8bdc-0c03-44e9-a1de-796b57bbe2c7",
   "metadata": {},
   "outputs": [],
   "source": [
    "x_train, x_test, y_train_1, y_test_1, y_train_2, y_test_2, y_train_3, y_test_3 = split_data(data_ace_autocorr, target_columns)"
   ]
  },
  {
   "cell_type": "code",
   "execution_count": 17,
   "id": "accfc9ea-3f89-4ca1-b744-65428fe7137c",
   "metadata": {},
   "outputs": [],
   "source": [
    "results = linear_regression(x_train, x_test, y_train_1, y_test_1, y_train_2, y_test_2, y_train_3, y_test_3, 'автокорреляционная функция', results)\n",
    "results = linear_regression_ridge(x_train, x_test, y_train_1, y_test_1, y_train_2, y_test_2, y_train_3, y_test_3, 'автокорреляционная функция', lambda_values, results)\n",
    "results = catboost(x_train, x_test, y_train_1, y_test_1, y_train_2, y_test_2, y_train_3, y_test_3, 'автокорреляционная функция', results)"
   ]
  },
  {
   "cell_type": "markdown",
   "id": "fab9953a-8abb-40b2-b5be-87ba862c7774",
   "metadata": {},
   "source": [
    "### Обучение на данных DSCOVR, тестирование на данных DSCOVR"
   ]
  },
  {
   "cell_type": "code",
   "execution_count": 18,
   "id": "d4010a40-7e0e-4a88-b089-41d88cfd3f0e",
   "metadata": {},
   "outputs": [],
   "source": [
    "type_train_test = 'DSCOVR-DSCOVR'"
   ]
  },
  {
   "cell_type": "markdown",
   "id": "f394da1f-8427-4485-bce2-ac2110dd6c24",
   "metadata": {},
   "source": [
    "#### Погружение - 24 часа по всем переменным"
   ]
  },
  {
   "cell_type": "code",
   "execution_count": 19,
   "id": "caad281f-8867-49eb-ab83-adaf75bbbb81",
   "metadata": {},
   "outputs": [],
   "source": [
    "x_train, x_test, y_train_1, y_test_1, y_train_2, y_test_2, y_train_3, y_test_3 = split_data(data_discover_24, target_columns)"
   ]
  },
  {
   "cell_type": "code",
   "execution_count": 20,
   "id": "3d87dfd0-b718-4670-b66a-b77db4d90ac4",
   "metadata": {},
   "outputs": [],
   "source": [
    "lambda_values = [0.01, 10]"
   ]
  },
  {
   "cell_type": "code",
   "execution_count": 21,
   "id": "f169e0de-133d-4c1c-8f67-727d24ca34cd",
   "metadata": {},
   "outputs": [],
   "source": [
    "results = linear_regression(x_train, x_test, y_train_1, y_test_1, y_train_2, y_test_2, y_train_3, y_test_3, '24 часа', results)\n",
    "results = linear_regression_ridge(x_train, x_test, y_train_1, y_test_1, y_train_2, y_test_2, y_train_3, y_test_3, '24 часа', lambda_values, results)\n",
    "results = catboost(x_train, x_test, y_train_1, y_test_1, y_train_2, y_test_2, y_train_3, y_test_3, '24 часа', results)"
   ]
  },
  {
   "cell_type": "markdown",
   "id": "4a3a2751-3a4a-464b-9735-5b801a6317ea",
   "metadata": {},
   "source": [
    "#### Погружение с учётом автокорреляционной функции"
   ]
  },
  {
   "cell_type": "code",
   "execution_count": 22,
   "id": "50d8a8d6-2f1a-47e6-9a2b-9563d988524c",
   "metadata": {},
   "outputs": [],
   "source": [
    "x_train, x_test, y_train_1, y_test_1, y_train_2, y_test_2, y_train_3, y_test_3 = split_data(data_discover_autocorr, target_columns)"
   ]
  },
  {
   "cell_type": "code",
   "execution_count": 23,
   "id": "0fa0e26d-ffaa-4e70-870e-42cf9a724212",
   "metadata": {},
   "outputs": [],
   "source": [
    "results = linear_regression(x_train, x_test, y_train_1, y_test_1, y_train_2, y_test_2, y_train_3, y_test_3, 'автокорреляционная функция', results)\n",
    "results = linear_regression_ridge(x_train, x_test, y_train_1, y_test_1, y_train_2, y_test_2, y_train_3, y_test_3, 'автокорреляционная функция', lambda_values, results)\n",
    "results = catboost(x_train, x_test, y_train_1, y_test_1, y_train_2, y_test_2, y_train_3, y_test_3, 'автокорреляционная функция', results)"
   ]
  },
  {
   "cell_type": "markdown",
   "id": "bc548dd9-b482-434e-a421-704bdff682f3",
   "metadata": {},
   "source": [
    "### Обучение на данных ACE, тестирование на данных DSCOVR"
   ]
  },
  {
   "cell_type": "code",
   "execution_count": 24,
   "id": "ddb27e52-de10-477c-9fad-3bec091afe1d",
   "metadata": {},
   "outputs": [],
   "source": [
    "type_train_test = 'ACE-DSCOVR'"
   ]
  },
  {
   "cell_type": "markdown",
   "id": "e17d6a57-a77c-42e6-ae4e-94f29f65bfcd",
   "metadata": {},
   "source": [
    "#### Погружение - 24 часа по всем переменным"
   ]
  },
  {
   "cell_type": "code",
   "execution_count": 25,
   "id": "a6ce0d9c-0fab-4a05-b68a-9383d4022e90",
   "metadata": {},
   "outputs": [],
   "source": [
    "x_train, x_test, y_train_1, y_test_1, y_train_2, y_test_2, y_train_3, y_test_3 = split_data(data_discover_24, target_columns)\n",
    "y_test_disc_cross = {}\n",
    "\n",
    "common_index = y_test_1.index.unique().intersection(data_discover_24.index.unique())\n",
    "x_test_disc_cross = data_discover_24.loc[common_index].iloc[:, from_index_dst_data:]\n",
    "\n",
    "for i in range(1, 4):\n",
    "    y_test_disc_cross[i] = data_discover_24[f'Dst +{i}'].loc[common_index]"
   ]
  },
  {
   "cell_type": "code",
   "execution_count": 26,
   "id": "94df2b89-961f-493d-af75-99a40a2ae15a",
   "metadata": {},
   "outputs": [],
   "source": [
    "x_train, x_test, y_train_1, y_test_1 = x_train, x_test_disc_cross, y_train_1, y_test_disc_cross[1]\n",
    "y_train_2, y_test_2 = y_train_2, y_test_disc_cross[2]\n",
    "y_train_3, y_test_3 = y_train_3, y_test_disc_cross[3]"
   ]
  },
  {
   "cell_type": "code",
   "execution_count": 27,
   "id": "b6d6dc69-3735-4560-b7c4-25d567d896c2",
   "metadata": {},
   "outputs": [],
   "source": [
    "lambda_values = [500000, 1000000, 5000000]"
   ]
  },
  {
   "cell_type": "code",
   "execution_count": 28,
   "id": "9cff2478-ec7f-48d6-869c-78887525bbeb",
   "metadata": {},
   "outputs": [],
   "source": [
    "results = linear_regression(x_train, x_test, y_train_1, y_test_1, y_train_2, y_test_2, y_train_3, y_test_3, '24 часа', results)\n",
    "results = linear_regression_ridge(x_train, x_test, y_train_1, y_test_1, y_train_2, y_test_2, y_train_3, y_test_3, '24 часа', lambda_values, results)\n",
    "results = catboost(x_train, x_test, y_train_1, y_test_1, y_train_2, y_test_2, y_train_3, y_test_3, '24 часа', results)"
   ]
  },
  {
   "cell_type": "markdown",
   "id": "2cfa55c3-85d9-4598-9610-1d25e50c2b7b",
   "metadata": {},
   "source": [
    "#### Погружение с учётом автокорреляционной функции"
   ]
  },
  {
   "cell_type": "code",
   "execution_count": 30,
   "id": "c01aa627-6a38-4e7d-aa54-3603fc0f7da5",
   "metadata": {},
   "outputs": [],
   "source": [
    "x_train, x_test, y_train_1, y_test_1, y_train_2, y_test_2, y_train_3, y_test_3 = split_data(data_discover_autocorr, target_columns)\n",
    "y_test_disc_cross = {}\n",
    "\n",
    "common_index = y_test_1.index.unique().intersection(data_discover_24.index.unique())\n",
    "x_test_disc_cross = data_discover_autocorr.loc[common_index].iloc[:, from_index_dst_data:]\n",
    "\n",
    "for i in range(1, 4):\n",
    "    y_test_disc_cross[i] = data_discover_autocorr[f'Dst +{i}'].loc[common_index]"
   ]
  },
  {
   "cell_type": "code",
   "execution_count": 31,
   "id": "cc5c3f96-b107-4633-bdc3-c7051391e995",
   "metadata": {},
   "outputs": [],
   "source": [
    "x_train, x_test, y_train_1, y_test_1 = x_train, x_test_disc_cross, y_train_1, y_test_disc_cross[1]\n",
    "y_train_2, y_test_2 = y_train_2, y_test_disc_cross[2]\n",
    "y_train_3, y_test_3 = y_train_3, y_test_disc_cross[3]"
   ]
  },
  {
   "cell_type": "code",
   "execution_count": 32,
   "id": "6389f81b-e0ee-4e38-82ea-1b7cb872f8c7",
   "metadata": {},
   "outputs": [],
   "source": [
    "lambda_values = [500000, 1000000, 5000000]"
   ]
  },
  {
   "cell_type": "code",
   "execution_count": 33,
   "id": "3a347572-bf27-4626-b76e-71749d91d157",
   "metadata": {},
   "outputs": [],
   "source": [
    "results = linear_regression(x_train, x_test, y_train_1, y_test_1, y_train_2, y_test_2, y_train_3, y_test_3, 'автокорреляционная функция', results)\n",
    "results = linear_regression_ridge(x_train, x_test, y_train_1, y_test_1, y_train_2, y_test_2, y_train_3, y_test_3, 'автокорреляционная функция', lambda_values, results)\n",
    "results = catboost(x_train, x_test, y_train_1, y_test_1, y_train_2, y_test_2, y_train_3, y_test_3, 'автокорреляционная функция', results)"
   ]
  },
  {
   "cell_type": "markdown",
   "id": "60647f34-13d4-445b-a594-a3794dd1db70",
   "metadata": {},
   "source": [
    "### Обучение на данных DSCOVR, тестирование на данных ACE"
   ]
  },
  {
   "cell_type": "code",
   "execution_count": 34,
   "id": "0a6958d2-4dfb-4355-adb4-d0543d8442c5",
   "metadata": {},
   "outputs": [],
   "source": [
    "type_train_test = 'DSCOVR-ACE'"
   ]
  },
  {
   "cell_type": "markdown",
   "id": "97623b24-646f-4a2c-939b-a1cbb819db5d",
   "metadata": {},
   "source": [
    "#### Погружение - 24 часа по всем переменным"
   ]
  },
  {
   "cell_type": "code",
   "execution_count": 35,
   "id": "38379e2e-45b0-4829-aa48-2a1adb85d3ab",
   "metadata": {},
   "outputs": [],
   "source": [
    "x_train, x_test, y_train_1, y_test_1, y_train_2, y_test_2, y_train_3, y_test_3 = split_data(data_discover_24, target_columns)\n",
    "y_test_ace_cross = {}\n",
    "\n",
    "common_index = y_test_1.index.unique().intersection(data_ace_24.index.unique())\n",
    "x_test_ace_cross = data_ace_24.loc[common_index].iloc[:, from_index_dst_data:]\n",
    "\n",
    "for i in range(1, 4):\n",
    "    y_test_ace_cross[i] = data_ace_24[f'Dst +{i}'].loc[common_index]"
   ]
  },
  {
   "cell_type": "code",
   "execution_count": 36,
   "id": "1bfb9eac-e777-416b-9c46-dec2d99ae2d5",
   "metadata": {},
   "outputs": [],
   "source": [
    "lambda_values = [500000, 1000000, 5000000]"
   ]
  },
  {
   "cell_type": "code",
   "execution_count": 37,
   "id": "584ae755-43c1-43a7-807d-52d4f1b5e849",
   "metadata": {},
   "outputs": [],
   "source": [
    "x_train, x_test, y_train_1, y_test_1 = x_train, x_test_ace_cross, y_train_1, y_test_ace_cross[1]\n",
    "y_train_2, y_test_2 = y_train_2, y_test_ace_cross[2]\n",
    "y_train_3, y_test_3 = y_train_3, y_test_ace_cross[3]"
   ]
  },
  {
   "cell_type": "code",
   "execution_count": 38,
   "id": "14a2b72d-8f3c-476a-b9c5-e7d23a10111f",
   "metadata": {},
   "outputs": [],
   "source": [
    "results = linear_regression(x_train, x_test, y_train_1, y_test_1, y_train_2, y_test_2, y_train_3, y_test_3, '24 часа', results)\n",
    "results = linear_regression_ridge(x_train, x_test, y_train_1, y_test_1, y_train_2, y_test_2, y_train_3, y_test_3, '24 часа', lambda_values, results)\n",
    "results = catboost(x_train, x_test, y_train_1, y_test_1, y_train_2, y_test_2, y_train_3, y_test_3, '24 часа', results)"
   ]
  },
  {
   "cell_type": "markdown",
   "id": "a03e91ec-e37c-487f-a505-b69fb4c21b9b",
   "metadata": {},
   "source": [
    "#### Погружение с учётом автокорреляционной функции"
   ]
  },
  {
   "cell_type": "code",
   "execution_count": 39,
   "id": "8f8ef953-cb06-4569-8c27-bb1acafc5e6f",
   "metadata": {},
   "outputs": [],
   "source": [
    "x_train, x_test, y_train_1, y_test_1, y_train_2, y_test_2, y_train_3, y_test_3 = split_data(data_discover_autocorr, target_columns)\n",
    "y_test_ace_cross = {}\n",
    "\n",
    "common_index = y_test_1.index.unique().intersection(data_ace_autocorr.index.unique())\n",
    "x_test_ace_cross = data_ace_autocorr.loc[common_index].iloc[:, from_index_dst_data:]\n",
    "\n",
    "for i in range(1, 4):\n",
    "    y_test_ace_cross[i] = data_ace_autocorr[f'Dst +{i}'].loc[common_index]"
   ]
  },
  {
   "cell_type": "code",
   "execution_count": 40,
   "id": "7eadb442-553b-46f2-aca8-cf916f8faa17",
   "metadata": {},
   "outputs": [],
   "source": [
    "lambda_values = [500000, 1000000, 5000000]"
   ]
  },
  {
   "cell_type": "code",
   "execution_count": 41,
   "id": "b55471a4-e600-43f0-bf53-49b58b6a1efa",
   "metadata": {},
   "outputs": [],
   "source": [
    "x_train, x_test, y_train_1, y_test_1 = x_train, x_test_ace_cross, y_train_1, y_test_ace_cross[1]\n",
    "y_train_2, y_test_2 = y_train_2, y_test_ace_cross[2]\n",
    "y_train_3, y_test_3 = y_train_3, y_test_ace_cross[3]"
   ]
  },
  {
   "cell_type": "code",
   "execution_count": 42,
   "id": "7eba213d-4fb7-4a9d-9da1-2416ecb08194",
   "metadata": {},
   "outputs": [],
   "source": [
    "results = linear_regression(x_train, x_test, y_train_1, y_test_1, y_train_2, y_test_2, y_train_3, y_test_3, 'автокорреляционная функция', results)\n",
    "results = linear_regression_ridge(x_train, x_test, y_train_1, y_test_1, y_train_2, y_test_2, y_train_3, y_test_3, 'автокорреляционная функция', lambda_values, results)\n",
    "results = catboost(x_train, x_test, y_train_1, y_test_1, y_train_2, y_test_2, y_train_3, y_test_3, 'автокорреляционная функция', results)"
   ]
  },
  {
   "cell_type": "markdown",
   "id": "3aa7417f-a892-40b2-81db-a0e65272d50b",
   "metadata": {},
   "source": [
    "### ТРИВИАЛЬНАЯ МОДЕЛЬ"
   ]
  },
  {
   "cell_type": "markdown",
   "id": "0a7d7259-fd4a-4b77-a3aa-3fb658fc0556",
   "metadata": {},
   "source": [
    "#### ACE на ACE"
   ]
  },
  {
   "cell_type": "code",
   "execution_count": 44,
   "id": "79edc351-da76-40f0-b2e5-828c3e3b8ecd",
   "metadata": {},
   "outputs": [],
   "source": [
    "x_train, x_test, y_train, y_test = \\\n",
    "train_test_split(data_ace_autocorr.iloc[:, from_index_dst_data:], data_ace_autocorr['Dst +1'], test_size=0.15, shuffle=False)"
   ]
  },
  {
   "cell_type": "code",
   "execution_count": 45,
   "id": "00019812-d8d0-4123-b8eb-ceb89d774a62",
   "metadata": {},
   "outputs": [
    {
     "name": "stdout",
     "output_type": "stream",
     "text": [
      "MSE=9.911526827985272 и r^2=0.9272754951721692 линейная регрессия, погружение - автокорреляционная функция\n"
     ]
    }
   ],
   "source": [
    "r_2 = metrics.r2_score(y_test, x_test['Dst'])\n",
    "mse = metrics.mean_squared_error(y_test, x_test['Dst'])\n",
    "\n",
    "print(f'MSE={mse} и r^2={r_2} линейная регрессия, погружение - автокорреляционная функция')"
   ]
  },
  {
   "cell_type": "markdown",
   "id": "71d7fc1a-c244-4b96-9912-b1de1d9bc34a",
   "metadata": {},
   "source": [
    "#### DSCVR на DSCVR"
   ]
  },
  {
   "cell_type": "code",
   "execution_count": 46,
   "id": "d400f2b6-ae68-4cc9-90db-437504a21932",
   "metadata": {},
   "outputs": [],
   "source": [
    "x_train, x_test, y_train, y_test = \\\n",
    "train_test_split(data_discover_autocorr.iloc[:, from_index_dst_data:], data_discover_autocorr['Dst +1'], test_size=0.15, shuffle=False)"
   ]
  },
  {
   "cell_type": "code",
   "execution_count": 47,
   "id": "befb9c27-c021-400c-84a8-7233d15606a5",
   "metadata": {},
   "outputs": [
    {
     "name": "stdout",
     "output_type": "stream",
     "text": [
      "MSE=12.148033924441018 и r^2=0.925786722657774 линейная регрессия, погружение - автокорреляционная функция\n"
     ]
    }
   ],
   "source": [
    "r_2 = metrics.r2_score(y_test, x_test['Dst'])\n",
    "mse = metrics.mean_squared_error(y_test, x_test['Dst'])\n",
    "\n",
    "print(f'MSE={mse} и r^2={r_2} линейная регрессия, погружение - автокорреляционная функция')"
   ]
  },
  {
   "cell_type": "code",
   "execution_count": 48,
   "id": "ff91618a-3543-4da5-be85-70898ae1f97b",
   "metadata": {},
   "outputs": [
    {
     "data": {
      "text/html": [
       "<div>\n",
       "<style scoped>\n",
       "    .dataframe tbody tr th:only-of-type {\n",
       "        vertical-align: middle;\n",
       "    }\n",
       "\n",
       "    .dataframe tbody tr th {\n",
       "        vertical-align: top;\n",
       "    }\n",
       "\n",
       "    .dataframe thead th {\n",
       "        text-align: right;\n",
       "    }\n",
       "</style>\n",
       "<table border=\"1\" class=\"dataframe\">\n",
       "  <thead>\n",
       "    <tr style=\"text-align: right;\">\n",
       "      <th></th>\n",
       "      <th>Способ обучения</th>\n",
       "      <th>Глубина погружения</th>\n",
       "      <th>Модель</th>\n",
       "      <th>Горизонт предсказания</th>\n",
       "      <th>R_2 score</th>\n",
       "      <th>MSE</th>\n",
       "    </tr>\n",
       "  </thead>\n",
       "  <tbody>\n",
       "    <tr>\n",
       "      <th>0</th>\n",
       "      <td>ACE-ACE</td>\n",
       "      <td>24 часа</td>\n",
       "      <td>Линейная регрессия</td>\n",
       "      <td>Dst +1</td>\n",
       "      <td>-0.871937</td>\n",
       "      <td>256.580835</td>\n",
       "    </tr>\n",
       "    <tr>\n",
       "      <th>1</th>\n",
       "      <td>ACE-ACE</td>\n",
       "      <td>24 часа</td>\n",
       "      <td>Линейная регрессия</td>\n",
       "      <td>Dst +2</td>\n",
       "      <td>-0.998146</td>\n",
       "      <td>273.882736</td>\n",
       "    </tr>\n",
       "    <tr>\n",
       "      <th>2</th>\n",
       "      <td>ACE-ACE</td>\n",
       "      <td>24 часа</td>\n",
       "      <td>Линейная регрессия</td>\n",
       "      <td>Dst +3</td>\n",
       "      <td>-0.418394</td>\n",
       "      <td>194.427491</td>\n",
       "    </tr>\n",
       "    <tr>\n",
       "      <th>3</th>\n",
       "      <td>ACE-ACE</td>\n",
       "      <td>24 часа</td>\n",
       "      <td>Линейная регрессия c регуляризацией lambda=100...</td>\n",
       "      <td>Dst +1</td>\n",
       "      <td>0.710778</td>\n",
       "      <td>39.642872</td>\n",
       "    </tr>\n",
       "    <tr>\n",
       "      <th>4</th>\n",
       "      <td>ACE-ACE</td>\n",
       "      <td>24 часа</td>\n",
       "      <td>Линейная регрессия c регуляризацией lambda=100...</td>\n",
       "      <td>Dst +2</td>\n",
       "      <td>0.636495</td>\n",
       "      <td>49.825048</td>\n",
       "    </tr>\n",
       "    <tr>\n",
       "      <th>...</th>\n",
       "      <td>...</td>\n",
       "      <td>...</td>\n",
       "      <td>...</td>\n",
       "      <td>...</td>\n",
       "      <td>...</td>\n",
       "      <td>...</td>\n",
       "    </tr>\n",
       "    <tr>\n",
       "      <th>109</th>\n",
       "      <td>DSCOVR-ACE</td>\n",
       "      <td>автокорреляционная функция</td>\n",
       "      <td>Линейная регрессия c регуляризацией lambda=500...</td>\n",
       "      <td>Dst +2</td>\n",
       "      <td>0.343024</td>\n",
       "      <td>107.608014</td>\n",
       "    </tr>\n",
       "    <tr>\n",
       "      <th>110</th>\n",
       "      <td>DSCOVR-ACE</td>\n",
       "      <td>автокорреляционная функция</td>\n",
       "      <td>Линейная регрессия c регуляризацией lambda=500...</td>\n",
       "      <td>Dst +3</td>\n",
       "      <td>0.067609</td>\n",
       "      <td>152.742920</td>\n",
       "    </tr>\n",
       "    <tr>\n",
       "      <th>111</th>\n",
       "      <td>DSCOVR-ACE</td>\n",
       "      <td>автокорреляционная функция</td>\n",
       "      <td>CatBoost</td>\n",
       "      <td>Dst +1</td>\n",
       "      <td>0.928750</td>\n",
       "      <td>11.669494</td>\n",
       "    </tr>\n",
       "    <tr>\n",
       "      <th>112</th>\n",
       "      <td>DSCOVR-ACE</td>\n",
       "      <td>автокорреляционная функция</td>\n",
       "      <td>CatBoost</td>\n",
       "      <td>Dst +2</td>\n",
       "      <td>0.835959</td>\n",
       "      <td>26.868794</td>\n",
       "    </tr>\n",
       "    <tr>\n",
       "      <th>113</th>\n",
       "      <td>DSCOVR-ACE</td>\n",
       "      <td>автокорреляционная функция</td>\n",
       "      <td>CatBoost</td>\n",
       "      <td>Dst +3</td>\n",
       "      <td>0.757752</td>\n",
       "      <td>39.684627</td>\n",
       "    </tr>\n",
       "  </tbody>\n",
       "</table>\n",
       "<p>114 rows × 6 columns</p>\n",
       "</div>"
      ],
      "text/plain": [
       "    Способ обучения          Глубина погружения  \\\n",
       "0           ACE-ACE                     24 часа   \n",
       "1           ACE-ACE                     24 часа   \n",
       "2           ACE-ACE                     24 часа   \n",
       "3           ACE-ACE                     24 часа   \n",
       "4           ACE-ACE                     24 часа   \n",
       "..              ...                         ...   \n",
       "109      DSCOVR-ACE  автокорреляционная функция   \n",
       "110      DSCOVR-ACE  автокорреляционная функция   \n",
       "111      DSCOVR-ACE  автокорреляционная функция   \n",
       "112      DSCOVR-ACE  автокорреляционная функция   \n",
       "113      DSCOVR-ACE  автокорреляционная функция   \n",
       "\n",
       "                                                Модель Горизонт предсказания  \\\n",
       "0                                   Линейная регрессия                Dst +1   \n",
       "1                                   Линейная регрессия                Dst +2   \n",
       "2                                   Линейная регрессия                Dst +3   \n",
       "3    Линейная регрессия c регуляризацией lambda=100...                Dst +1   \n",
       "4    Линейная регрессия c регуляризацией lambda=100...                Dst +2   \n",
       "..                                                 ...                   ...   \n",
       "109  Линейная регрессия c регуляризацией lambda=500...                Dst +2   \n",
       "110  Линейная регрессия c регуляризацией lambda=500...                Dst +3   \n",
       "111                                           CatBoost                Dst +1   \n",
       "112                                           CatBoost                Dst +2   \n",
       "113                                           CatBoost                Dst +3   \n",
       "\n",
       "     R_2 score         MSE  \n",
       "0    -0.871937  256.580835  \n",
       "1    -0.998146  273.882736  \n",
       "2    -0.418394  194.427491  \n",
       "3     0.710778   39.642872  \n",
       "4     0.636495   49.825048  \n",
       "..         ...         ...  \n",
       "109   0.343024  107.608014  \n",
       "110   0.067609  152.742920  \n",
       "111   0.928750   11.669494  \n",
       "112   0.835959   26.868794  \n",
       "113   0.757752   39.684627  \n",
       "\n",
       "[114 rows x 6 columns]"
      ]
     },
     "execution_count": 48,
     "metadata": {},
     "output_type": "execute_result"
    }
   ],
   "source": [
    "results"
   ]
  },
  {
   "cell_type": "code",
   "execution_count": 49,
   "id": "48312d2d-7502-4bef-8269-c3628c849bcb",
   "metadata": {},
   "outputs": [],
   "source": [
    "results.to_excel('результаты обучения без адаптации.xlsx', index=False)"
   ]
  },
  {
   "cell_type": "code",
   "execution_count": 50,
   "id": "674444aa-383e-460b-92ee-14c91b600c8e",
   "metadata": {},
   "outputs": [],
   "source": [
    "results.to_csv('результаты обучения без адаптации.csv', sep=';', encoding='utf-8')"
   ]
  },
  {
   "cell_type": "code",
   "execution_count": null,
   "id": "141cd35d-f1f8-4bbb-a141-b39b35a6ccae",
   "metadata": {},
   "outputs": [],
   "source": []
  }
 ],
 "metadata": {
  "kernelspec": {
   "display_name": "Python 3 (ipykernel)",
   "language": "python",
   "name": "python3"
  },
  "language_info": {
   "codemirror_mode": {
    "name": "ipython",
    "version": 3
   },
   "file_extension": ".py",
   "mimetype": "text/x-python",
   "name": "python",
   "nbconvert_exporter": "python",
   "pygments_lexer": "ipython3",
   "version": "3.10.0"
  }
 },
 "nbformat": 4,
 "nbformat_minor": 5
}
