{
 "cells": [
  {
   "cell_type": "code",
   "execution_count": 1,
   "id": "413be9d7-f378-43fa-8d54-63dac7aab124",
   "metadata": {},
   "outputs": [],
   "source": [
    "import pandas as pd\n",
    "import numpy as np\n",
    "from matplotlib import pyplot as plt\n",
    "from sklearn.model_selection import train_test_split\n",
    "from sklearn import datasets, linear_model, metrics\n",
    "from sklearn.linear_model import LinearRegression\n",
    "from sklearn.preprocessing import StandardScaler\n",
    "from sklearn.pipeline import Pipeline\n",
    "from sklearn.pipeline import make_pipeline\n",
    "from sklearn import metrics\n",
    "from sklearn.linear_model import Ridge\n",
    "from catboost import CatBoostRegressor, Pool\n",
    "import torch\n",
    "from torch import nn\n",
    "\n",
    "import warnings\n",
    "warnings.filterwarnings('ignore')"
   ]
  },
  {
   "cell_type": "code",
   "execution_count": 2,
   "id": "9795a432-3481-403e-8f21-f15c3c0b9bed",
   "metadata": {},
   "outputs": [],
   "source": [
    "data_ace_24 = pd.read_csv(\"Ace_погружение_24часа.csv\", sep=';', decimal=',', parse_dates=['datetime'])\n",
    "data_discover_24 = pd.read_csv(\"Discover_погружение_24часа_до_22.09.2024.csv\", sep=';', decimal=',', parse_dates=['datetime'])\n",
    "data_ace_autocorr = pd.read_csv(\"Ace_погружение_автокорр.csv\", sep=';', decimal=',', parse_dates=['datetime'])\n",
    "data_discover_autocorr = pd.read_csv(\"Discover_погружение_автокорр_до_22.09.2024.csv\", sep=';', decimal=',', parse_dates=['datetime'])"
   ]
  },
  {
   "cell_type": "code",
   "execution_count": 3,
   "id": "0b298976-dc43-4ea7-9fb6-6ae8c85c1793",
   "metadata": {},
   "outputs": [],
   "source": [
    "datasets = [data_ace_24, data_discover_24, data_ace_autocorr, data_discover_autocorr]"
   ]
  },
  {
   "cell_type": "code",
   "execution_count": 4,
   "id": "d0206244-b670-4085-b1eb-15508e5135eb",
   "metadata": {},
   "outputs": [],
   "source": [
    "for dataset in datasets:\n",
    "    dataset.set_index('datetime', inplace=True)\n",
    "    dataset.dropna(inplace=True)\n",
    "    if not dataset.index.is_monotonic_increasing:\n",
    "        dataset = dataset.sort_index(inplace=True)"
   ]
  },
  {
   "cell_type": "markdown",
   "id": "afe9d994-74d7-4579-b6ef-3b1efd0754a4",
   "metadata": {},
   "source": [
    "#### Разбиения данных на тренировочные и тестовые наборы\n",
    "Обозначения:\\\n",
    "x..._1_24 — горизонт предсказания 1 час, погружение 24 часа на все переменные\\\n",
    "x..._3_a — горизонт предсказания 3 часа, погружение с учётом автокорреляционной функции"
   ]
  },
  {
   "cell_type": "code",
   "execution_count": 81,
   "id": "70c4fc4e-415a-421f-b432-139e16dc96b4",
   "metadata": {},
   "outputs": [],
   "source": [
    "from_index_data = 3 #индекс, с которого начинаются данные о нынешнем и предыдущих значениях Dst, величине ММП и параметрах СВ\n",
    "hour_horizont = 3\n",
    "results = []"
   ]
  },
  {
   "cell_type": "code",
   "execution_count": 82,
   "id": "b755fa49-77d7-4755-ba15-1c8b8268f80f",
   "metadata": {},
   "outputs": [],
   "source": [
    "x_train_ace_3_24, x_test_ace_3_24, y_train_ace_3_24, y_test_ace_3_24 = train_test_split(data_ace_24.iloc[:, from_index_data:], data_ace_24['Dst +3'], test_size=0.15, shuffle=False)\n",
    "x_train_ace_2_24, x_test_ace_2_24, y_train_ace_2_24, y_test_ace_2_24 = train_test_split(data_ace_24.iloc[:, from_index_data:], data_ace_24['Dst +2'], test_size=0.15, shuffle=False)\n",
    "x_train_ace_1_24, x_test_ace_1_24, y_train_ace_1_24, y_test_ace_1_24 = train_test_split(data_ace_24.iloc[:, from_index_data:], data_ace_24['Dst +1'], test_size=0.15, shuffle=False)\n",
    "\n",
    "x_train_disc_3_24, x_test_disc_3_24, y_train_disc_3_24, y_test_disc_3_24 = train_test_split(data_discover_24.iloc[:, from_index_data:], data_discover_24['Dst +3'], test_size=0.15, shuffle=False)\n",
    "x_train_disc_2_24, x_test_disc_2_24, y_train_disc_2_24, y_test_disc_2_24 = train_test_split(data_discover_24.iloc[:, from_index_data:], data_discover_24['Dst +2'], test_size=0.15, shuffle=False)\n",
    "x_train_disc_1_24, x_test_disc_1_24, y_train_disc_1_24, y_test_disc_1_24 = train_test_split(data_discover_24.iloc[:, from_index_data:], data_discover_24['Dst +1'], test_size=0.15, shuffle=False)"
   ]
  },
  {
   "cell_type": "code",
   "execution_count": 83,
   "id": "66cfc6f9-4119-408f-a0a1-b8aec1c6b48b",
   "metadata": {},
   "outputs": [],
   "source": [
    "x_train_ace_3_a, x_test_ace_3_a, y_train_ace_3_a, y_test_ace_3_a = train_test_split(data_ace_autocorr.iloc[:, from_index_data:], data_ace_autocorr['Dst +3'], test_size=0.15, shuffle=False)\n",
    "x_train_ace_2_a, x_test_ace_2_a, y_train_ace_2_a, y_test_ace_2_a = train_test_split(data_ace_autocorr.iloc[:, from_index_data:], data_ace_autocorr['Dst +2'], test_size=0.15, shuffle=False)\n",
    "x_train_ace_1_a, x_test_ace_1_a, y_train_ace_1_a, y_test_ace_1_a = train_test_split(data_ace_autocorr.iloc[:, from_index_data:], data_ace_autocorr['Dst +1'], test_size=0.15, shuffle=False)\n",
    "\n",
    "x_train_disc_3_a, x_test_disc_3_a, y_train_disc_3_a, y_test_disc_3_a = train_test_split(data_discover_autocorr.iloc[:, from_index_data:], data_discover_autocorr['Dst +3'], test_size=0.15, shuffle=False)\n",
    "x_train_disc_2_a, x_test_disc_2_a, y_train_disc_2_a, y_test_disc_2_a = train_test_split(data_discover_autocorr.iloc[:, from_index_data:], data_discover_autocorr['Dst +2'], test_size=0.15, shuffle=False)\n",
    "x_train_disc_1_a, x_test_disc_1_a, y_train_disc_1_a, y_test_disc_1_a = train_test_split(data_discover_autocorr.iloc[:, from_index_data:], data_discover_autocorr['Dst +1'], test_size=0.15, shuffle=False)"
   ]
  },
  {
   "cell_type": "code",
   "execution_count": 84,
   "id": "217d2dc9-a7a7-4883-a4ac-dad3781207d4",
   "metadata": {},
   "outputs": [],
   "source": [
    "model_cat = CatBoostRegressor(iterations=500,\n",
    "                              depth=2,\n",
    "                              learning_rate=1,\n",
    "                              loss_function='RMSE',\n",
    "                              logging_level='Silent',\n",
    "                              early_stopping_rounds=40)\n",
    "\n",
    "pipe = make_pipeline(StandardScaler(), LinearRegression())"
   ]
  },
  {
   "cell_type": "code",
   "execution_count": 85,
   "id": "644c56cc-100b-47b4-8494-3ecc33a87d2e",
   "metadata": {},
   "outputs": [],
   "source": [
    "def linear_regression(x_train, x_test, y_train_1, y_test_1, y_train_2, y_test_2, y_train_3, y_test_3, depth):\n",
    "    for i in range(1, hour_horizont+1):\n",
    "        pipe.fit(x_train, eval(f'y_train_{i}'))\n",
    "        y_pred = pipe.predict(x_test)\n",
    "\n",
    "        R_2 = metrics.r2_score(eval(f'y_test_{i}'), y_pred)\n",
    "        MSE = metrics.mean_squared_error(eval(f'y_test_{i}'), y_pred)\n",
    "        MAE = metrics.mean_absolute_error(eval(f'y_test_{i}'), y_pred)\n",
    "\n",
    "        results.append((R_2, MSE))\n",
    "        print(f'Прогноз на {i} час:')\n",
    "        print(f'MSE={MSE} и r^2={R_2} линейная регрессия, погружение - {depth}')"
   ]
  },
  {
   "cell_type": "code",
   "execution_count": 86,
   "id": "1339c6d1-8c34-4388-ad18-71d503a8aa2f",
   "metadata": {},
   "outputs": [],
   "source": [
    "def linear_regression_ridge(x_train, x_test, y_train_1, y_test_1, y_train_2, y_test_2, y_train_3, y_test_3, depth, lambda_values):\n",
    "    for lambda_val in lambda_values:\n",
    "        for i in range(1, hour_horizont+1):\n",
    "            ridge_reg = Ridge(lambda_val)\n",
    "            ridge_reg.fit(x_train, eval(f'y_train_{i}'))\n",
    "            y_pred = ridge_reg.predict(x_test)\n",
    "            \n",
    "            mse_ridge = metrics.mean_squared_error(eval(f'y_test_{i}'), y_pred)\n",
    "            r2_ridge = metrics.r2_score(eval(f'y_test_{i}'), y_pred)\n",
    "            \n",
    "            results.append((r2_ridge, mse_ridge))\n",
    "            print(f'Прогноз на {i} час:')\n",
    "            print(f'MSE={mse_ridge} и r^2={r2_ridge} с Lambda={lambda_val} линейная регрессия с Ridge-регуляризацией, погружение - {depth}')"
   ]
  },
  {
   "cell_type": "code",
   "execution_count": 52,
   "id": "7730ab6d-9919-42a3-9f04-55f88bb1bea9",
   "metadata": {},
   "outputs": [],
   "source": [
    "def catboost(x_train, x_test, y_train_1, y_test_1, y_train_2, y_test_2, y_train_3, y_test_3, depth):\n",
    "    for i in range(1, hour_horizont+1):\n",
    "        train_pool = Pool(x_train, eval(f'y_train_{i}'), cat_features=[])\n",
    "        test_pool = Pool(x_test, eval(f'y_test_{i}'), cat_features=[])\n",
    "\n",
    "        model_cat.fit(train_pool)\n",
    "        y_pred_cat = model_cat.predict(test_pool)\n",
    "\n",
    "        R_2_catboost = metrics.r2_score(eval(f'y_test_{i}'), y_pred_cat)\n",
    "        MSE_catboost = metrics.mean_squared_error(eval(f'y_test_{i}'), y_pred_cat)\n",
    "\n",
    "        results.append((R_2_catboost, MSE_catboost))\n",
    "        print(f'Прогноз на {i} час:')\n",
    "        print(f'MSE={MSE_catboost} и r^2={R_2_catboost}  CatBoost, погружение - {depth}')"
   ]
  },
  {
   "cell_type": "code",
   "execution_count": 87,
   "id": "fcfb86e3-d99c-4fcf-8c11-d16f84552a23",
   "metadata": {},
   "outputs": [],
   "source": [
    "class LinearRegressionModel(nn.Module):\n",
    "    def __init__(self):\n",
    "        super().__init__() \n",
    "        self.weights = nn.Parameter(torch.randn(1, \n",
    "                                                dtype=torch.float),\n",
    "                                                requires_grad=True)\n",
    "\n",
    "        self.bias = nn.Parameter(torch.randn(1,\n",
    "                                            dtype=torch.float),\n",
    "                                            requires_grad=True)\n",
    "\n",
    "    def forward(self, x: torch.Tensor) -> torch.Tensor:\n",
    "        return self.weights * x + self.bias\n",
    "\n",
    "\n",
    "class Perceptron(nn.Module):\n",
    "    def __init__(self):\n",
    "        super(Perceptron, self).__init__()\n",
    "        self.w = nn.Parameter(torch.tensor(0.0))\n",
    "        self.b = nn.Parameter(torch.tensor(0.))\n",
    "    \n",
    "    def forward(self, x):\n",
    "        y = self.w * x + self.b\n",
    "        return y"
   ]
  },
  {
   "cell_type": "markdown",
   "id": "f49000b3-7997-4887-97a1-79541cb5c08a",
   "metadata": {},
   "source": [
    "### Обучение на данных ACE, тестирование на данных ACE"
   ]
  },
  {
   "cell_type": "markdown",
   "id": "4a825722-2fcf-4d19-8bf7-40c39e3815d9",
   "metadata": {},
   "source": [
    "#### Погружение - 24 часа по всем переменным"
   ]
  },
  {
   "cell_type": "code",
   "execution_count": 88,
   "id": "a7cd674d-1815-403a-906e-e33f3a386357",
   "metadata": {},
   "outputs": [],
   "source": [
    "x_train, x_test, y_train_1, y_test_1 = x_train_ace_1_24, x_test_ace_1_24, y_train_ace_1_24, y_test_ace_1_24 #прогноз на 1 час\n",
    "y_train_2, y_test_2 = y_train_ace_2_24, y_test_ace_2_24 #прогноз на 2 часа\n",
    "y_train_3, y_test_3 = y_train_ace_3_24, y_test_ace_3_24 #прогноз на 3 часа"
   ]
  },
  {
   "cell_type": "code",
   "execution_count": 89,
   "id": "37493519-6a20-4472-9f5b-1bc333283dbd",
   "metadata": {},
   "outputs": [
    {
     "name": "stdout",
     "output_type": "stream",
     "text": [
      "Прогноз на 1 час:\n",
      "MSE=195.39999989917484 и r^2=-0.4930908727221095 линейная регрессия, погружение - 24 часа\n",
      "Прогноз на 2 час:\n",
      "MSE=212.85827725746574 и r^2=-0.6266105855150226 линейная регрессия, погружение - 24 часа\n",
      "Прогноз на 3 час:\n",
      "MSE=156.27635514555823 и r^2=-0.19384499104386843 линейная регрессия, погружение - 24 часа\n"
     ]
    }
   ],
   "source": [
    "linear_regression(x_train, x_test, y_train_1, y_test_1, y_train_2, y_test_2, y_train_3, y_test_3, '24 часа')"
   ]
  },
  {
   "cell_type": "code",
   "execution_count": 90,
   "id": "024050b8-085b-431d-b79a-e6c63a7e73d8",
   "metadata": {},
   "outputs": [
    {
     "name": "stdout",
     "output_type": "stream",
     "text": [
      "Прогноз на 1 час:\n",
      "MSE=36.933960536705044 и r^2=0.717780146370073 с Lambda=1000000 линейная регрессия с Ridge-регуляризацией, погружение - 24 часа\n",
      "Прогноз на 2 час:\n",
      "MSE=47.88839936808052 и r^2=0.6340486339590603 с Lambda=1000000 линейная регрессия с Ridge-регуляризацией, погружение - 24 часа\n",
      "Прогноз на 3 час:\n",
      "MSE=57.895875660604034 и r^2=0.5577149141011608 с Lambda=1000000 линейная регрессия с Ridge-регуляризацией, погружение - 24 часа\n",
      "Прогноз на 1 час:\n",
      "MSE=18.52841866344424 и r^2=0.8584206099967382 с Lambda=5000000 линейная регрессия с Ridge-регуляризацией, погружение - 24 часа\n",
      "Прогноз на 2 час:\n",
      "MSE=32.22767890703375 и r^2=0.7537240067326455 с Lambda=5000000 линейная регрессия с Ridge-регуляризацией, погружение - 24 часа\n",
      "Прогноз на 3 час:\n",
      "MSE=49.09303172431293 и r^2=0.6249626505261212 с Lambda=5000000 линейная регрессия с Ridge-регуляризацией, погружение - 24 часа\n",
      "Прогноз на 1 час:\n",
      "MSE=18.024349839678436 и r^2=0.862272301707981 с Lambda=10000000 линейная регрессия с Ridge-регуляризацией, погружение - 24 часа\n",
      "Прогноз на 2 час:\n",
      "MSE=32.54838214357198 и r^2=0.751273271501283 с Lambda=10000000 линейная регрессия с Ridge-регуляризацией, погружение - 24 часа\n",
      "Прогноз на 3 час:\n",
      "MSE=49.02618786840852 и r^2=0.6254732920910542 с Lambda=10000000 линейная регрессия с Ridge-регуляризацией, погружение - 24 часа\n"
     ]
    }
   ],
   "source": [
    "lambda_values = [1000000, 5000000, 10000000]\n",
    "\n",
    "linear_regression_ridge(x_train, x_test, y_train_1, y_test_1, y_train_2, y_test_2, y_train_3, y_test_3, '24 часа', lambda_values)"
   ]
  },
  {
   "cell_type": "code",
   "execution_count": 91,
   "id": "d8c95e33-f780-4ddc-995f-cfc0dd4c58c4",
   "metadata": {},
   "outputs": [
    {
     "name": "stdout",
     "output_type": "stream",
     "text": [
      "Прогноз на 1 час:\n",
      "MSE=6.612618946685367 и r^2=0.9494716427882306  CatBoost, погружение - 24 часа\n",
      "Прогноз на 2 час:\n",
      "MSE=16.477347420485632 и r^2=0.8740841649162105  CatBoost, погружение - 24 часа\n",
      "Прогноз на 3 час:\n",
      "MSE=27.589959648196825 и r^2=0.7892314861168657  CatBoost, погружение - 24 часа\n"
     ]
    }
   ],
   "source": [
    "catboost(x_train, x_test, y_train_1, y_test_1, y_train_2, y_test_2, y_train_3, y_test_3, '24 часа')"
   ]
  },
  {
   "cell_type": "markdown",
   "id": "b18f560b-dbea-4578-91e4-79719613585f",
   "metadata": {},
   "source": [
    "#### Погружение с учётом автокорреляционной функции"
   ]
  },
  {
   "cell_type": "code",
   "execution_count": 92,
   "id": "45af938c-ab6f-4b50-ad8b-14b1b1a91b36",
   "metadata": {},
   "outputs": [],
   "source": [
    "x_train, x_test, y_train_1, y_test_1 = x_train_ace_1_a, x_test_ace_1_a, y_train_ace_1_a, y_test_ace_1_a #прогноз на 1 час\n",
    "y_train_2, y_test_2 = y_train_ace_2_a, y_test_ace_2_a #прогноз на 2 часа\n",
    "y_train_3, y_test_3 = y_train_ace_3_a, y_test_ace_3_a #прогноз на 3 часа"
   ]
  },
  {
   "cell_type": "code",
   "execution_count": 93,
   "id": "93f78345-5897-4c42-8fa6-e807aa180a78",
   "metadata": {},
   "outputs": [
    {
     "name": "stdout",
     "output_type": "stream",
     "text": [
      "Прогноз на 1 час:\n",
      "MSE=196.4636620486351 и r^2=-0.5069945364184563 линейная регрессия, погружение - автокорреляционная функция\n",
      "Прогноз на 2 час:\n",
      "MSE=214.5867595900255 и r^2=-0.6465873260824417 линейная регрессия, погружение - автокорреляционная функция\n",
      "Прогноз на 3 час:\n",
      "MSE=158.0671489854597 и r^2=-0.21235406479941155 линейная регрессия, погружение - автокорреляционная функция\n"
     ]
    }
   ],
   "source": [
    "linear_regression(x_train, x_test, y_train_1, y_test_1, y_train_2, y_test_2, y_train_3, y_test_3, 'автокорреляционная функция')"
   ]
  },
  {
   "cell_type": "code",
   "execution_count": 94,
   "id": "6f396b49-3820-4bfb-a886-5484b2af618a",
   "metadata": {},
   "outputs": [
    {
     "name": "stdout",
     "output_type": "stream",
     "text": [
      "Прогноз на 1 час:\n",
      "MSE=36.84563087364687 и r^2=0.7173718343714302 с Lambda=1000000 линейная регрессия с Ridge-регуляризацией, погружение - автокорреляционная функция\n",
      "Прогноз на 2 час:\n",
      "MSE=46.99546399213081 и r^2=0.6393899812800787 с Lambda=1000000 линейная регрессия с Ridge-регуляризацией, погружение - автокорреляционная функция\n",
      "Прогноз на 3 час:\n",
      "MSE=55.508915382238705 и r^2=0.5742539823853334 с Lambda=1000000 линейная регрессия с Ridge-регуляризацией, погружение - автокорреляционная функция\n",
      "Прогноз на 1 час:\n",
      "MSE=18.163374984240463 и r^2=0.8606759816103091 с Lambda=5000000 линейная регрессия с Ridge-регуляризацией, погружение - автокорреляционная функция\n",
      "Прогноз на 2 час:\n",
      "MSE=30.998447059572047 и r^2=0.7621397976555242 с Lambda=5000000 линейная регрессия с Ridge-регуляризацией, погружение - автокорреляционная функция\n",
      "Прогноз на 3 час:\n",
      "MSE=46.61709075203667 и r^2=0.6424530977809086 с Lambda=5000000 линейная регрессия с Ridge-регуляризацией, погружение - автокорреляционная функция\n",
      "Прогноз на 1 час:\n",
      "MSE=17.57750449205445 и r^2=0.8651699609119601 с Lambda=10000000 линейная регрессия с Ridge-регуляризацией, погружение - автокорреляционная функция\n",
      "Прогноз на 2 час:\n",
      "MSE=31.436897718098013 и r^2=0.7587754367843285 с Lambda=10000000 линейная регрессия с Ridge-регуляризацией, погружение - автокорреляционная функция\n",
      "Прогноз на 3 час:\n",
      "MSE=47.024127186791226 и r^2=0.639331182320527 с Lambda=10000000 линейная регрессия с Ridge-регуляризацией, погружение - автокорреляционная функция\n"
     ]
    }
   ],
   "source": [
    "lambda_values = [1000000, 5000000, 10000000]\n",
    "\n",
    "linear_regression_ridge(x_train, x_test, y_train_1, y_test_1, y_train_2, y_test_2, y_train_3, y_test_3, 'автокорреляционная функция', lambda_values)"
   ]
  },
  {
   "cell_type": "code",
   "execution_count": 95,
   "id": "986ccf3b-c8e7-453a-837e-de69e5c4b9b4",
   "metadata": {},
   "outputs": [
    {
     "name": "stdout",
     "output_type": "stream",
     "text": [
      "Прогноз на 1 час:\n",
      "MSE=6.464454224415719 и r^2=0.9504137452415498  CatBoost, погружение - автокорреляционная функция\n",
      "Прогноз на 2 час:\n",
      "MSE=16.27805919966789 и r^2=0.875093663641684  CatBoost, погружение - автокорреляционная функция\n",
      "Прогноз на 3 час:\n",
      "MSE=26.67822967553194 и r^2=0.7953815173084533  CatBoost, погружение - автокорреляционная функция\n"
     ]
    }
   ],
   "source": [
    "catboost(x_train, x_test, y_train_1, y_test_1, y_train_2, y_test_2, y_train_3, y_test_3, 'автокорреляционная функция')"
   ]
  },
  {
   "cell_type": "markdown",
   "id": "75b7fc2a-454b-4ec3-a051-12103b7b1bea",
   "metadata": {},
   "source": [
    "#### Обучение на данных DSCOVR, тестирование на данных DSCOVR"
   ]
  },
  {
   "cell_type": "markdown",
   "id": "c2f3b16e-d5d8-4486-9341-4aa38e24343f",
   "metadata": {},
   "source": [
    "#### Погружение - 24 часа по всем переменным"
   ]
  },
  {
   "cell_type": "code",
   "execution_count": 96,
   "id": "5dcfb09a-62d6-422c-8c0c-eb35e37ff4df",
   "metadata": {},
   "outputs": [],
   "source": [
    "x_train, x_test, y_train_1, y_test_1 = x_train_disc_1_24, x_test_disc_1_24, y_train_disc_1_24, y_test_disc_1_24 #прогноз на 1 час\n",
    "y_train_2, y_test_2 = y_train_disc_2_24, y_test_disc_2_24 #прогноз на 2 часа\n",
    "y_train_3, y_test_3 = y_train_disc_3_24, y_test_disc_3_24 #прогноз на 3 часа"
   ]
  },
  {
   "cell_type": "code",
   "execution_count": 97,
   "id": "303fd62b-38d2-47f7-98ec-cff07fbe9298",
   "metadata": {},
   "outputs": [
    {
     "name": "stdout",
     "output_type": "stream",
     "text": [
      "Прогноз на 1 час:\n",
      "MSE=11.262872920360023 и r^2=0.8717512396390082 линейная регрессия, погружение - 24 часа\n",
      "Прогноз на 2 час:\n",
      "MSE=15.40022868487537 и r^2=0.8243478323672702 линейная регрессия, погружение - 24 часа\n",
      "Прогноз на 3 час:\n",
      "MSE=28.4245685406233 и r^2=0.6759369881525532 линейная регрессия, погружение - 24 часа\n"
     ]
    }
   ],
   "source": [
    "linear_regression(x_train, x_test, y_train_1, y_test_1, y_train_2, y_test_2, y_train_3, y_test_3, '24 часа')"
   ]
  },
  {
   "cell_type": "code",
   "execution_count": 98,
   "id": "2f1b1451-8392-4d68-8b36-133cb2f9bfb8",
   "metadata": {},
   "outputs": [
    {
     "name": "stdout",
     "output_type": "stream",
     "text": [
      "Прогноз на 1 час:\n",
      "MSE=11.26287256009502 и r^2=0.8717512437412955 с Lambda=0.01 линейная регрессия с Ridge-регуляризацией, погружение - 24 часа\n",
      "Прогноз на 2 час:\n",
      "MSE=15.400228446382004 и r^2=0.8243478350874816 с Lambda=0.01 линейная регрессия с Ridge-регуляризацией, погружение - 24 часа\n",
      "Прогноз на 3 час:\n",
      "MSE=28.42456829418836 и r^2=0.6759369909621102 с Lambda=0.01 линейная регрессия с Ridge-регуляризацией, погружение - 24 часа\n",
      "Прогноз на 1 час:\n",
      "MSE=11.262513059715683 и r^2=0.8717553373218877 с Lambda=10 линейная регрессия с Ridge-регуляризацией, погружение - 24 часа\n",
      "Прогноз на 2 час:\n",
      "MSE=15.399990442748992 и r^2=0.8243505497130172 с Lambda=10 линейная регрессия с Ridge-регуляризацией, погружение - 24 часа\n",
      "Прогноз на 3 час:\n",
      "MSE=28.42432229133759 и r^2=0.6759397955930629 с Lambda=10 линейная регрессия с Ridge-регуляризацией, погружение - 24 часа\n"
     ]
    }
   ],
   "source": [
    "lambda_values = [0.01, 10]\n",
    "\n",
    "linear_regression_ridge(x_train, x_test, y_train_1, y_test_1, y_train_2, y_test_2, y_train_3, y_test_3, '24 часа', lambda_values)"
   ]
  },
  {
   "cell_type": "code",
   "execution_count": 99,
   "id": "426a5ad3-8744-4a54-bb9e-f3d1e6876e82",
   "metadata": {},
   "outputs": [
    {
     "name": "stdout",
     "output_type": "stream",
     "text": [
      "Прогноз на 1 час:\n",
      "MSE=13.554033982394484 и r^2=0.8456621087333298  CatBoost, погружение - 24 часа\n",
      "Прогноз на 2 час:\n",
      "MSE=19.406525438923442 и r^2=0.7786527505975018  CatBoost, погружение - 24 часа\n",
      "Прогноз на 3 час:\n",
      "MSE=37.427806927559175 и r^2=0.5732928075071639  CatBoost, погружение - 24 часа\n"
     ]
    }
   ],
   "source": [
    "catboost(x_train, x_test, y_train_1, y_test_1, y_train_2, y_test_2, y_train_3, y_test_3, '24 часа')"
   ]
  },
  {
   "cell_type": "markdown",
   "id": "852f7494-3b50-480e-a7df-b1f6f05cc271",
   "metadata": {},
   "source": [
    "#### Погружение с учётом автокорреляционной функции"
   ]
  },
  {
   "cell_type": "code",
   "execution_count": 100,
   "id": "c2e8db37-eccd-4f3c-95bb-475e689aee4a",
   "metadata": {},
   "outputs": [],
   "source": [
    "x_train, x_test, y_train_1, y_test_1 = x_train_disc_1_a, x_test_disc_1_a, y_train_disc_1_a, y_test_disc_1_a #прогноз на 1 час\n",
    "y_train_2, y_test_2 = y_train_disc_2_a, y_test_disc_2_a #прогноз на 2 часа\n",
    "y_train_3, y_test_3 = y_train_disc_3_a, y_test_disc_3_a #прогноз на 3 часа"
   ]
  },
  {
   "cell_type": "code",
   "execution_count": 101,
   "id": "e6e0d582-2949-4f9f-8854-6bbe53d2ef9d",
   "metadata": {},
   "outputs": [
    {
     "name": "stdout",
     "output_type": "stream",
     "text": [
      "Прогноз на 1 час:\n",
      "MSE=11.22558571344954 и r^2=0.8714662062984361 линейная регрессия, погружение - автокорреляционная функция\n",
      "Прогноз на 2 час:\n",
      "MSE=15.32574581729889 и r^2=0.8243240930677619 линейная регрессия, погружение - автокорреляционная функция\n",
      "Прогноз на 3 час:\n",
      "MSE=28.36778669669019 и r^2=0.675266501667406 линейная регрессия, погружение - автокорреляционная функция\n"
     ]
    }
   ],
   "source": [
    "linear_regression(x_train, x_test, y_train_1, y_test_1, y_train_2, y_test_2, y_train_3, y_test_3, 'автокорреляционная функция')"
   ]
  },
  {
   "cell_type": "code",
   "execution_count": 102,
   "id": "b83be2f9-8f53-4ddb-97b7-cfe093e19071",
   "metadata": {},
   "outputs": [
    {
     "name": "stdout",
     "output_type": "stream",
     "text": [
      "Прогноз на 1 час:\n",
      "MSE=11.225585405014801 и r^2=0.8714662098300369 с Lambda=0.01 линейная регрессия с Ridge-регуляризацией, погружение - автокорреляционная функция\n",
      "Прогноз на 2 час:\n",
      "MSE=15.325745603560826 и r^2=0.8243240955177978 с Lambda=0.01 линейная регрессия с Ridge-регуляризацией, погружение - автокорреляционная функция\n",
      "Прогноз на 3 час:\n",
      "MSE=28.367786474592044 и r^2=0.6752665042098217 с Lambda=0.01 линейная регрессия с Ridge-регуляризацией, погружение - автокорреляционная функция\n",
      "Прогноз на 1 час:\n",
      "MSE=11.225277612932352 и r^2=0.8714697340723382 с Lambda=10 линейная регрессия с Ridge-регуляризацией, погружение - автокорреляционная функция\n",
      "Прогноз на 2 час:\n",
      "MSE=15.325532322149009 и r^2=0.8243265403192385 с Lambda=10 линейная регрессия с Ridge-регуляризацией, погружение - автокорреляционная функция\n",
      "Прогноз на 3 час:\n",
      "MSE=28.36756477536814 и r^2=0.675269042059014 с Lambda=10 линейная регрессия с Ridge-регуляризацией, погружение - автокорреляционная функция\n"
     ]
    }
   ],
   "source": [
    "lambda_values = [0.01, 10]\n",
    "\n",
    "linear_regression_ridge(x_train, x_test, y_train_1, y_test_1, y_train_2, y_test_2, y_train_3, y_test_3, 'автокорреляционная функция', lambda_values)"
   ]
  },
  {
   "cell_type": "code",
   "execution_count": 103,
   "id": "4c98d6ed-0e9a-42b7-a9ec-79862198fbc5",
   "metadata": {},
   "outputs": [
    {
     "name": "stdout",
     "output_type": "stream",
     "text": [
      "Прогноз на 1 час:\n",
      "MSE=12.822903987888372 и r^2=0.8531767929169611  CatBoost, погружение - автокорреляционная функция\n",
      "Прогноз на 2 час:\n",
      "MSE=18.7920697906093 и r^2=0.7845903264379568  CatBoost, погружение - автокорреляционная функция\n",
      "Прогноз на 3 час:\n",
      "MSE=37.78900107280112 и r^2=0.5674193884750052  CatBoost, погружение - автокорреляционная функция\n"
     ]
    }
   ],
   "source": [
    "catboost(x_train, x_test, y_train_1, y_test_1, y_train_2, y_test_2, y_train_3, y_test_3, 'автокорреляционная функция')"
   ]
  },
  {
   "cell_type": "markdown",
   "id": "ad25662f-5866-4e28-9db4-d28359479b02",
   "metadata": {},
   "source": [
    "#### Обучение на данных ACE, тестирование на данных DSCOVR"
   ]
  },
  {
   "cell_type": "markdown",
   "id": "346fbbd9-8191-4466-aa9c-9746f9e99579",
   "metadata": {},
   "source": [
    "#### Погружение - 24 часа по всем переменным"
   ]
  },
  {
   "cell_type": "code",
   "execution_count": 53,
   "id": "ccfba205-7796-426e-9412-e7828dd66616",
   "metadata": {},
   "outputs": [],
   "source": [
    "y_test_disc_24_cross = {}\n",
    "\n",
    "#common_index = y_test_ace_1_a.index.intersection(data_discover_autocorr['Dst +1'].index)\n",
    "common_index = y_test_ace_1_24.index.unique().intersection(data_discover_24.index.unique())\n",
    "x_test_disc_24_cross = data_discover_24.loc[common_index].iloc[:, from_index_data:]\n",
    "\n",
    "for i in range(1, 4):\n",
    "    y_test_disc_24_cross[i] = data_discover_24[f'Dst +{i}'].loc[common_index]"
   ]
  },
  {
   "cell_type": "code",
   "execution_count": 54,
   "id": "f92ca379-d035-4e36-bc32-735590dfcca3",
   "metadata": {},
   "outputs": [],
   "source": [
    "x_train, x_test, y_train_1, y_test_1 = x_train_ace_1_24, x_test_disc_24_cross, y_train_ace_1_24, y_test_disc_24_cross[1]\n",
    "y_train_2, y_test_2 = y_train_ace_2_24, y_test_disc_24_cross[2]\n",
    "y_train_3, y_test_3 = y_train_ace_3_24, y_test_disc_24_cross[3]"
   ]
  },
  {
   "cell_type": "code",
   "execution_count": 55,
   "id": "a8d5b79b-8c9c-4057-b65d-6a471b809181",
   "metadata": {},
   "outputs": [],
   "source": [
    "dataframes = [x_train, x_test, y_train_1, y_test_1, y_train_2, y_test_2, y_train_3, y_test_3]\n",
    "\n",
    "for i, df in enumerate(dataframes):\n",
    "  dataframes[i] = df.to_numpy().astype(float)\n",
    "\n",
    "x_train, x_test, y_train_1, y_test_1, y_train_2, y_test_2, y_train_3, y_test_3 = dataframes"
   ]
  },
  {
   "cell_type": "code",
   "execution_count": 56,
   "id": "f2e8154a-b330-42c1-aa80-5e713f6fa390",
   "metadata": {},
   "outputs": [
    {
     "name": "stdout",
     "output_type": "stream",
     "text": [
      "Прогноз на 1 час:\n",
      "MSE=157.1081682994679 и r^2=-0.0857871085950761 линейная регрессия, погружение - 24 часа\n",
      "Прогноз на 2 час:\n",
      "MSE=29.73014137485373 и r^2=0.7944748319964166 линейная регрессия, погружение - 24 часа\n",
      "Прогноз на 3 час:\n",
      "MSE=152.48972381471552 и r^2=-0.0539686915129316 линейная регрессия, погружение - 24 часа\n"
     ]
    }
   ],
   "source": [
    "linear_regression(x_train, x_test, y_train_1, y_test_1, y_train_2, y_test_2, y_train_3, y_test_3, '24 часа')"
   ]
  },
  {
   "cell_type": "code",
   "execution_count": 57,
   "id": "0d721ad8-7f10-4e7c-8913-a493fc57d3a5",
   "metadata": {},
   "outputs": [
    {
     "name": "stdout",
     "output_type": "stream",
     "text": [
      "Прогноз на 1 час:\n",
      "MSE=101.9913059349164 и r^2=0.295129932634548 с Lambda=500000 линейная регрессия с Ridge-регуляризацией, погружение - 24 часа\n",
      "Прогноз на 2 час:\n",
      "MSE=19.11051477661761 и r^2=0.8678885609531138 с Lambda=500000 линейная регрессия с Ridge-регуляризацией, погружение - 24 часа\n",
      "Прогноз на 3 час:\n",
      "MSE=104.0690880636467 и r^2=0.28070195269905185 с Lambda=500000 линейная регрессия с Ridge-регуляризацией, погружение - 24 часа\n",
      "Прогноз на 1 час:\n",
      "MSE=83.73278381816692 и r^2=0.421316038366339 с Lambda=1000000 линейная регрессия с Ridge-регуляризацией, погружение - 24 часа\n",
      "Прогноз на 2 час:\n",
      "MSE=18.795413727516507 и r^2=0.8700668619318432 с Lambda=1000000 линейная регрессия с Ridge-регуляризацией, погружение - 24 часа\n",
      "Прогноз на 3 час:\n",
      "MSE=90.04290718167239 и r^2=0.37764721000085266 с Lambda=1000000 линейная регрессия с Ridge-регуляризацией, погружение - 24 часа\n",
      "Прогноз на 1 час:\n",
      "MSE=54.03184404081962 и r^2=0.6265816071299691 с Lambda=5000000 линейная регрессия с Ridge-регуляризацией, погружение - 24 часа\n",
      "Прогноз на 2 час:\n",
      "MSE=25.11491965390039 и r^2=0.8263799685247958 с Lambda=5000000 линейная регрессия с Ridge-регуляризацией, погружение - 24 часа\n",
      "Прогноз на 3 час:\n",
      "MSE=67.9463330712313 и r^2=0.5303728935387011 с Lambda=5000000 линейная регрессия с Ridge-регуляризацией, погружение - 24 часа\n"
     ]
    }
   ],
   "source": [
    "lambda_values = [500000, 1000000, 5000000]\n",
    "\n",
    "linear_regression_ridge(x_train, x_test, y_train_1, y_test_1, y_train_2, y_test_2, y_train_3, y_test_3, '24 часа', lambda_values)"
   ]
  },
  {
   "cell_type": "code",
   "execution_count": 58,
   "id": "ae3f9121-ea58-4534-b42b-0e0ab383e668",
   "metadata": {},
   "outputs": [
    {
     "name": "stdout",
     "output_type": "stream",
     "text": [
      "Прогноз на 1 час:\n",
      "MSE=127.84532287657845 и r^2=0.11645075506851166  CatBoost, погружение - 24 часа\n",
      "Прогноз на 2 час:\n",
      "MSE=58.916084705856036 и r^2=0.5927117178956238  CatBoost, погружение - 24 часа\n",
      "Прогноз на 3 час:\n",
      "MSE=125.1502260345787 и r^2=0.1349946955344702  CatBoost, погружение - 24 часа\n"
     ]
    }
   ],
   "source": [
    "catboost(x_train, x_test, y_train_1, y_test_1, y_train_2, y_test_2, y_train_3, y_test_3, '24 часа')"
   ]
  },
  {
   "cell_type": "markdown",
   "id": "5ec233e5-e2f9-4e60-9279-f9ec17dc6b22",
   "metadata": {},
   "source": [
    "#### Погружение с учётом автокорреляционной функции"
   ]
  },
  {
   "cell_type": "code",
   "execution_count": 59,
   "id": "6624c588-0201-4321-86c3-4cb5eeb2120f",
   "metadata": {},
   "outputs": [],
   "source": [
    "# x_train_ace_3_a, x_test_ace_3_a, y_train_ace_3_a, y_test_ace_3_a = train_test_split(data_ace_autocorr.iloc[:, from_index_data:], data_ace_autocorr['Dst +3'], test_size=0.15, shuffle=False)\n",
    "# x_train_ace_2_a, x_test_ace_2_a, y_train_ace_2_a, y_test_ace_2_a = train_test_split(data_ace_autocorr.iloc[:, from_index_data:], data_ace_autocorr['Dst +2'], test_size=0.15, shuffle=False)\n",
    "# x_train_ace_1_a, x_test_ace_1_a, y_train_ace_1_a, y_test_ace_1_a = train_test_split(data_ace_autocorr.iloc[:, from_index_data:], data_ace_autocorr['Dst +1'], test_size=0.15, shuffle=False)"
   ]
  },
  {
   "cell_type": "code",
   "execution_count": 60,
   "id": "7c085bd9-43fa-425c-b806-53152e0cf366",
   "metadata": {},
   "outputs": [],
   "source": [
    "y_test_disc_a_cross = {}\n",
    "\n",
    "common_index = y_test_ace_1_a.index.unique().intersection(data_discover_autocorr.index.unique())\n",
    "x_test_disc_a_cross = data_discover_autocorr.loc[common_index].iloc[:, from_index_data:]\n",
    "\n",
    "for i in range(1, 4):\n",
    "    y_test_disc_a_cross[i] = data_discover_autocorr[f'Dst +{i}'].loc[common_index]"
   ]
  },
  {
   "cell_type": "code",
   "execution_count": 61,
   "id": "e45cf731-15b4-4c8f-abcd-6791e2c70ca2",
   "metadata": {},
   "outputs": [],
   "source": [
    "x_train, x_test, y_train_1, y_test_1 = x_train_ace_1_a, x_test_disc_a_cross, y_train_ace_1_a, y_test_disc_a_cross[1]\n",
    "y_train_2, y_test_2 = y_train_ace_2_a, y_test_disc_a_cross[2]\n",
    "y_train_3, y_test_3 = y_train_ace_3_a, y_test_disc_a_cross[3]"
   ]
  },
  {
   "cell_type": "code",
   "execution_count": 62,
   "id": "d0fe0599-bb9f-4e46-97d3-062833fd8060",
   "metadata": {},
   "outputs": [],
   "source": [
    "dataframes = [x_train, x_test, y_train_1, y_test_1, y_train_2, y_test_2, y_train_3, y_test_3]\n",
    "\n",
    "for i, df in enumerate(dataframes):\n",
    "  dataframes[i] = df.to_numpy().astype(float)\n",
    "\n",
    "x_train, x_test, y_train_1, y_test_1, y_train_2, y_test_2, y_train_3, y_test_3 = dataframes"
   ]
  },
  {
   "cell_type": "code",
   "execution_count": 63,
   "id": "f8a33a71-1041-42af-8fb7-bd7c2adb3e72",
   "metadata": {},
   "outputs": [
    {
     "name": "stdout",
     "output_type": "stream",
     "text": [
      "Прогноз на 1 час:\n",
      "MSE=156.20920361241974 и r^2=-0.08208820462719402 линейная регрессия, погружение - автокорреляционная функция\n",
      "Прогноз на 2 час:\n",
      "MSE=29.86603016667384 и r^2=0.7929385067238806 линейная регрессия, погружение - автокорреляционная функция\n",
      "Прогноз на 3 час:\n",
      "MSE=150.99500547447877 и r^2=-0.046240991247372465 линейная регрессия, погружение - автокорреляционная функция\n"
     ]
    }
   ],
   "source": [
    "linear_regression(x_train, x_test, y_train_1, y_test_1, y_train_2, y_test_2, y_train_3, y_test_3, 'автокорреляционная функция')"
   ]
  },
  {
   "cell_type": "code",
   "execution_count": 64,
   "id": "cc532035-5467-4cda-bc4e-cfac394df4e6",
   "metadata": {},
   "outputs": [
    {
     "name": "stdout",
     "output_type": "stream",
     "text": [
      "Прогноз на 1 час:\n",
      "MSE=101.50962043181099 и r^2=0.29682528055143964 с Lambda=500000 линейная регрессия с Ridge-регуляризацией, погружение - автокорреляционная функция\n",
      "Прогноз на 2 час:\n",
      "MSE=19.056307069124212 и r^2=0.867882427760215 с Lambda=500000 линейная регрессия с Ridge-регуляризацией, погружение - автокорреляционная функция\n",
      "Прогноз на 3 час:\n",
      "MSE=103.16441827544531 и r^2=0.2851760699051491 с Lambda=500000 линейная регрессия с Ridge-регуляризацией, погружение - автокорреляционная функция\n",
      "Прогноз на 1 час:\n",
      "MSE=83.36536236737963 и r^2=0.42251369825791085 с Lambda=1000000 линейная регрессия с Ridge-регуляризацией, погружение - автокорреляционная функция\n",
      "Прогноз на 2 час:\n",
      "MSE=18.643564634259 и r^2=0.8707439752917974 с Lambda=1000000 линейная регрессия с Ridge-регуляризацией, погружение - автокорреляционная функция\n",
      "Прогноз на 3 час:\n",
      "MSE=89.32868262892468 и r^2=0.3810435705020414 с Lambda=1000000 линейная регрессия с Ridge-регуляризацией, погружение - автокорреляционная функция\n",
      "Прогноз на 1 час:\n",
      "MSE=53.56876326257653 и r^2=0.6289199002209629 с Lambda=5000000 линейная регрессия с Ridge-регуляризацией, погружение - автокорреляционная функция\n",
      "Прогноз на 2 час:\n",
      "MSE=24.883850289491676 и r^2=0.8274800108803555 с Lambda=5000000 линейная регрессия с Ridge-регуляризацией, погружение - автокорреляционная функция\n",
      "Прогноз на 3 час:\n",
      "MSE=67.22867651368044 и r^2=0.5341740149954137 с Lambda=5000000 линейная регрессия с Ridge-регуляризацией, погружение - автокорреляционная функция\n"
     ]
    }
   ],
   "source": [
    "lambda_values = [500000, 1000000, 5000000]\n",
    "\n",
    "linear_regression_ridge(x_train, x_test, y_train_1, y_test_1, y_train_2, y_test_2, y_train_3, y_test_3, 'автокорреляционная функция', lambda_values)"
   ]
  },
  {
   "cell_type": "code",
   "execution_count": 65,
   "id": "38bfbce8-b76b-44e2-a3cb-cdbdf393fac5",
   "metadata": {},
   "outputs": [
    {
     "name": "stdout",
     "output_type": "stream",
     "text": [
      "Прогноз на 1 час:\n",
      "MSE=103.0414027059966 и r^2=0.28621435947494633  CatBoost, погружение - автокорреляционная функция\n",
      "Прогноз на 2 час:\n",
      "MSE=39.723206613784804 и r^2=0.7245986013787604  CatBoost, погружение - автокорреляционная функция\n",
      "Прогноз на 3 час:\n",
      "MSE=116.32522192315976 и r^2=0.19398515792280469  CatBoost, погружение - автокорреляционная функция\n"
     ]
    }
   ],
   "source": [
    "catboost(x_train, x_test, y_train_1, y_test_1, y_train_2, y_test_2, y_train_3, y_test_3, 'автокорреляционная функция')"
   ]
  },
  {
   "cell_type": "markdown",
   "id": "7c4fd463-bebe-4efc-9b35-f30ec2e3b9f5",
   "metadata": {},
   "source": [
    "#### Обучение на данных DSCOVR, тестирование на данных ACE"
   ]
  },
  {
   "cell_type": "markdown",
   "id": "18974bfa-1087-4906-8bf3-f049fdefe3dc",
   "metadata": {},
   "source": [
    "#### Погружение - 24 часа по всем переменным"
   ]
  },
  {
   "cell_type": "code",
   "execution_count": 66,
   "id": "24c40abc-d2e2-49a6-9af2-99dce71d71ba",
   "metadata": {},
   "outputs": [],
   "source": [
    "y_test_ace_24_cross = {}\n",
    "\n",
    "common_index = data_ace_24.index.unique().intersection(y_test_disc_1_24.index.unique())\n",
    "x_test_disc_24_cross = data_discover_24.loc[common_index].iloc[:, from_index_data:]\n",
    "\n",
    "for i in range(1, 4):\n",
    "    y_test_ace_24_cross[i] = data_ace_24[f'Dst +{i}'].loc[common_index]"
   ]
  },
  {
   "cell_type": "code",
   "execution_count": 67,
   "id": "0d3fa30c-0f31-440d-a95e-e9be7a0ea55b",
   "metadata": {},
   "outputs": [],
   "source": [
    "x_train, x_test, y_train_1, y_test_1 = x_train_disc_1_24, x_test_disc_24_cross, y_train_disc_1_24, y_test_ace_24_cross[1]\n",
    "y_train_2, y_test_2 =  y_train_disc_2_24, y_test_ace_24_cross[2]\n",
    "y_train_3, y_test_3 = y_train_disc_3_24, y_test_ace_24_cross[3]"
   ]
  },
  {
   "cell_type": "code",
   "execution_count": 68,
   "id": "8cd117a6-d3c6-478a-9dfd-6d5887d54266",
   "metadata": {},
   "outputs": [],
   "source": [
    "dataframes = [x_train, x_test, y_train_1, y_test_1, y_train_2, y_test_2, y_train_3, y_test_3]\n",
    "\n",
    "for i, df in enumerate(dataframes):\n",
    "  dataframes[i] = df.to_numpy().astype(float)\n",
    "\n",
    "x_train, x_test, y_train_1, y_test_1, y_train_2, y_test_2, y_train_3, y_test_3 = dataframes"
   ]
  },
  {
   "cell_type": "code",
   "execution_count": 69,
   "id": "0b4bb27f-0bb2-48a8-83ba-9cc4a29b52d2",
   "metadata": {},
   "outputs": [
    {
     "name": "stdout",
     "output_type": "stream",
     "text": [
      "Прогноз на 1 час:\n",
      "MSE=24.382685277132065 и r^2=0.7216689886060468 линейная регрессия, погружение - 24 часа\n",
      "Прогноз на 2 час:\n",
      "MSE=31.548009965857876 и r^2=0.6394652796724067 линейная регрессия, погружение - 24 часа\n",
      "Прогноз на 3 час:\n",
      "MSE=41.5650576972019 и r^2=0.5254135727954461 линейная регрессия, погружение - 24 часа\n"
     ]
    }
   ],
   "source": [
    "linear_regression(x_train, x_test, y_train_1, y_test_1, y_train_2, y_test_2, y_train_3, y_test_3, '24 часа')"
   ]
  },
  {
   "cell_type": "code",
   "execution_count": 70,
   "id": "2e527df9-5fa7-4a1e-91c3-bf83f3877a13",
   "metadata": {},
   "outputs": [
    {
     "name": "stdout",
     "output_type": "stream",
     "text": [
      "Прогноз на 1 час:\n",
      "MSE=24.07295946053151 и r^2=0.725204542578443 с Lambda=500000 линейная регрессия с Ridge-регуляризацией, погружение - 24 часа\n",
      "Прогноз на 2 час:\n",
      "MSE=31.854348922306386 и r^2=0.6359643986308408 с Lambda=500000 линейная регрессия с Ridge-регуляризацией, погружение - 24 часа\n",
      "Прогноз на 3 час:\n",
      "MSE=41.27940859351315 и r^2=0.5286750908845441 с Lambda=500000 линейная регрессия с Ridge-регуляризацией, погружение - 24 часа\n",
      "Прогноз на 1 час:\n",
      "MSE=25.004570531427717 и r^2=0.7145701006110715 с Lambda=1000000 линейная регрессия с Ridge-регуляризацией, погружение - 24 часа\n",
      "Прогноз на 2 час:\n",
      "MSE=32.65026825309861 и r^2=0.6268685300280017 с Lambda=1000000 линейная регрессия с Ridge-регуляризацией, погружение - 24 часа\n",
      "Прогноз на 3 час:\n",
      "MSE=41.79728724142503 и r^2=0.5227619948646012 с Lambda=1000000 линейная регрессия с Ridge-регуляризацией, погружение - 24 часа\n",
      "Прогноз на 1 час:\n",
      "MSE=29.917740144822144 и r^2=0.6584857336882599 с Lambda=5000000 линейная регрессия с Ridge-регуляризацией, погружение - 24 часа\n",
      "Прогноз на 2 час:\n",
      "MSE=36.40245006440526 и r^2=0.5839881131198748 с Lambda=5000000 линейная регрессия с Ridge-регуляризацией, погружение - 24 часа\n",
      "Прогноз на 3 час:\n",
      "MSE=44.08696418797782 и r^2=0.4966186508703915 с Lambda=5000000 линейная регрессия с Ridge-регуляризацией, погружение - 24 часа\n"
     ]
    }
   ],
   "source": [
    "lambda_values = [500000, 1000000, 5000000]\n",
    "\n",
    "linear_regression_ridge(x_train, x_test, y_train_1, y_test_1, y_train_2, y_test_2, y_train_3, y_test_3, '24 часа', lambda_values)"
   ]
  },
  {
   "cell_type": "code",
   "execution_count": 71,
   "id": "230f2595-0afb-4df7-a01e-af7444bb4cf8",
   "metadata": {},
   "outputs": [
    {
     "name": "stdout",
     "output_type": "stream",
     "text": [
      "Прогноз на 1 час:\n",
      "MSE=25.054208659650314 и r^2=0.7140034759643246  CatBoost, погружение - 24 часа\n",
      "Прогноз на 2 час:\n",
      "MSE=35.20482655711701 и r^2=0.597674708779164  CatBoost, погружение - 24 часа\n",
      "Прогноз на 3 час:\n",
      "MSE=49.07783750565484 и r^2=0.43963326776995304  CatBoost, погружение - 24 часа\n"
     ]
    }
   ],
   "source": [
    "catboost(x_train, x_test, y_train_1, y_test_1, y_train_2, y_test_2, y_train_3, y_test_3, '24 часа')"
   ]
  },
  {
   "cell_type": "markdown",
   "id": "88c39577-4ea8-4199-b2c2-51e267d5354c",
   "metadata": {},
   "source": [
    "#### Погружение с учётом автокорреляционной функции"
   ]
  },
  {
   "cell_type": "code",
   "execution_count": 72,
   "id": "242606f7-1308-4573-96e4-8ac13de244e2",
   "metadata": {},
   "outputs": [],
   "source": [
    "y_test_ace_a_cross = {}\n",
    "\n",
    "common_index = data_ace_autocorr.index.unique().intersection(y_test_disc_1_a.index.unique())\n",
    "x_test_disc_a_cross = data_discover_autocorr.loc[common_index].iloc[:, from_index_data:]\n",
    "\n",
    "for i in range(1, 4):\n",
    "    y_test_ace_a_cross[i] = data_ace_autocorr[f'Dst +{i}'].loc[common_index]"
   ]
  },
  {
   "cell_type": "code",
   "execution_count": 73,
   "id": "87b473cf-983c-498c-bca7-d6ab4933a0d6",
   "metadata": {},
   "outputs": [],
   "source": [
    "x_train, x_test, y_train_1, y_test_1 = x_train_disc_1_a, x_test_disc_a_cross, y_train_disc_1_a, y_test_ace_a_cross[1]\n",
    "y_train_2, y_test_2 =  y_train_disc_2_a, y_test_ace_a_cross[2]\n",
    "y_train_3, y_test_3 = y_train_disc_3_a, y_test_ace_a_cross[3]"
   ]
  },
  {
   "cell_type": "code",
   "execution_count": 74,
   "id": "44f58479-c9f4-438e-b148-399072ad22c8",
   "metadata": {},
   "outputs": [],
   "source": [
    "dataframes = [x_train, x_test, y_train_1, y_test_1, y_train_2, y_test_2, y_train_3, y_test_3]\n",
    "\n",
    "for i, df in enumerate(dataframes):\n",
    "  dataframes[i] = df.to_numpy().astype(float)\n",
    "\n",
    "x_train, x_test, y_train_1, y_test_1, y_train_2, y_test_2, y_train_3, y_test_3 = dataframes"
   ]
  },
  {
   "cell_type": "code",
   "execution_count": 75,
   "id": "41d70b3a-ea4f-46fb-b824-a20de6cf70cd",
   "metadata": {},
   "outputs": [
    {
     "name": "stdout",
     "output_type": "stream",
     "text": [
      "Прогноз на 1 час:\n",
      "MSE=24.80707425076794 и r^2=0.7152309718639414 линейная регрессия, погружение - автокорреляционная функция\n",
      "Прогноз на 2 час:\n",
      "MSE=31.021868107950578 и r^2=0.6436862610898763 линейная регрессия, погружение - автокорреляционная функция\n",
      "Прогноз на 3 час:\n",
      "MSE=42.16942248053673 и r^2=0.5165276144380262 линейная регрессия, погружение - автокорреляционная функция\n"
     ]
    }
   ],
   "source": [
    "linear_regression(x_train, x_test, y_train_1, y_test_1, y_train_2, y_test_2, y_train_3, y_test_3, 'автокорреляционная функция')"
   ]
  },
  {
   "cell_type": "code",
   "execution_count": 76,
   "id": "84dcef58-a8d1-48c0-9fe0-5e58b5509208",
   "metadata": {},
   "outputs": [
    {
     "name": "stdout",
     "output_type": "stream",
     "text": [
      "Прогноз на 1 час:\n",
      "MSE=24.572335651174242 и r^2=0.7179256178426079 с Lambda=500000 линейная регрессия с Ridge-регуляризацией, погружение - автокорреляционная функция\n",
      "Прогноз на 2 час:\n",
      "MSE=31.342810266913556 и r^2=0.6399999550222968 с Lambda=500000 линейная регрессия с Ridge-регуляризацией, погружение - автокорреляционная функция\n",
      "Прогноз на 3 час:\n",
      "MSE=41.84589458644213 и r^2=0.5202368614125599 с Lambda=500000 линейная регрессия с Ridge-регуляризацией, погружение - автокорреляционная функция\n",
      "Прогноз на 1 час:\n",
      "MSE=25.465947840893982 и r^2=0.7076675329018114 с Lambda=1000000 линейная регрессия с Ridge-регуляризацией, погружение - автокорреляционная функция\n",
      "Прогноз на 2 час:\n",
      "MSE=32.07968103061038 и r^2=0.6315363390984357 с Lambda=1000000 линейная регрессия с Ridge-регуляризацией, погружение - автокорреляционная функция\n",
      "Прогноз на 3 час:\n",
      "MSE=42.21866060765585 и r^2=0.5159630993610206 с Lambda=1000000 линейная регрессия с Ridge-регуляризацией, погружение - автокорреляционная функция\n",
      "Прогноз на 1 час:\n",
      "MSE=30.263520989542474 и r^2=0.6525945231167098 с Lambda=5000000 линейная регрессия с Ridge-регуляризацией, погружение - автокорреляционная функция\n",
      "Прогноз на 2 час:\n",
      "MSE=35.73370932823885 и r^2=0.5895665750506763 с Lambda=5000000 линейная регрессия с Ridge-регуляризацией, погружение - автокорреляционная функция\n",
      "Прогноз на 3 час:\n",
      "MSE=44.16105868055774 и r^2=0.49369350744402685 с Lambda=5000000 линейная регрессия с Ridge-регуляризацией, погружение - автокорреляционная функция\n"
     ]
    }
   ],
   "source": [
    "lambda_values = [500000, 1000000, 5000000]\n",
    "\n",
    "linear_regression_ridge(x_train, x_test, y_train_1, y_test_1, y_train_2, y_test_2, y_train_3, y_test_3, 'автокорреляционная функция', lambda_values)"
   ]
  },
  {
   "cell_type": "code",
   "execution_count": 77,
   "id": "13214c81-6ac2-45f9-a40f-6c1dbbc84a82",
   "metadata": {},
   "outputs": [
    {
     "name": "stdout",
     "output_type": "stream",
     "text": [
      "Прогноз на 1 час:\n",
      "MSE=24.62175032281599 и r^2=0.7173583696505464  CatBoost, погружение - автокорреляционная функция\n",
      "Прогноз на 2 час:\n",
      "MSE=34.403174222850126 и r^2=0.6048489538069295  CatBoost, погружение - автокорреляционная функция\n",
      "Прогноз на 3 час:\n",
      "MSE=48.70484952603154 и r^2=0.4415989500530688  CatBoost, погружение - автокорреляционная функция\n"
     ]
    }
   ],
   "source": [
    "catboost(x_train, x_test, y_train_1, y_test_1, y_train_2, y_test_2, y_train_3, y_test_3, 'автокорреляционная функция')"
   ]
  },
  {
   "cell_type": "code",
   "execution_count": null,
   "id": "01dcd0c9-47cc-4495-a133-85ce48bb4134",
   "metadata": {},
   "outputs": [],
   "source": [
    "for i in results:\n",
    "    print(i[1])"
   ]
  },
  {
   "cell_type": "markdown",
   "id": "bf918f3d-3caf-4980-8ee2-38833ac1635d",
   "metadata": {},
   "source": [
    "### ТРИВИАЛЬНАЯ МОДЕЛЬ"
   ]
  },
  {
   "cell_type": "code",
   "execution_count": 33,
   "id": "4b1850ed-bd52-4abd-8533-16a48e881b6e",
   "metadata": {},
   "outputs": [],
   "source": [
    "triv_results = []"
   ]
  },
  {
   "cell_type": "markdown",
   "id": "ceed958a-f77a-49ed-b06e-6622735c3c8a",
   "metadata": {},
   "source": [
    "#### ACE на ACE"
   ]
  },
  {
   "cell_type": "code",
   "execution_count": 34,
   "id": "fa50ceae-89e7-48dd-9ee7-1b2c85d7e05e",
   "metadata": {},
   "outputs": [],
   "source": [
    "x_train, x_test, y_train, y_test = train_test_split(data_ace_autocorr.iloc[:, from_index_data:], data_ace_autocorr['Dst'], test_size=0.15, shuffle=False)"
   ]
  },
  {
   "cell_type": "code",
   "execution_count": 36,
   "id": "a364f6fe-e24b-40d5-8b4b-1e495630bb6f",
   "metadata": {},
   "outputs": [
    {
     "name": "stdout",
     "output_type": "stream",
     "text": [
      "MSE=4.2240910924450065e-24 и r^2=1.0 линейная регрессия, погружение - автокорреляционная функция\n"
     ]
    }
   ],
   "source": [
    "pipe.fit(x_train, y_train)\n",
    "y_pred = pipe.predict(x_test)\n",
    "\n",
    "R_2 = metrics.r2_score(y_test, y_pred)\n",
    "MSE = metrics.mean_squared_error(y_test, y_pred)\n",
    "\n",
    "triv_results.append((R_2, MSE))\n",
    "print(f'MSE={MSE} и r^2={R_2} линейная регрессия, погружение - автокорреляционная функция')"
   ]
  },
  {
   "cell_type": "code",
   "execution_count": 37,
   "id": "b5b56a3b-cc63-49c9-9119-b64bacdea80d",
   "metadata": {},
   "outputs": [
    {
     "name": "stdout",
     "output_type": "stream",
     "text": [
      "MSE=1.5546074054194041 и r^2=0.9880811108746462 с Lambda=1000000 линейная регрессия с Ridge-регуляризацией, погружение - автокорреляционная функция\n",
      "MSE=3.6162610422986425 и r^2=0.9722747915253462 с Lambda=5000000 линейная регрессия с Ridge-регуляризацией, погружение - автокорреляционная функция\n",
      "MSE=5.0749991452454495 и r^2=0.9610909147141706 с Lambda=10000000 линейная регрессия с Ridge-регуляризацией, погружение - автокорреляционная функция\n"
     ]
    }
   ],
   "source": [
    "lambda_values = [1000000, 5000000, 10000000]\n",
    "\n",
    "for lambda_val in lambda_values:\n",
    "    ridge_reg = Ridge(lambda_val)\n",
    "    ridge_reg.fit(x_train, y_train)\n",
    "    y_pred = ridge_reg.predict(x_test)\n",
    "            \n",
    "    mse_ridge = metrics.mean_squared_error(y_test, y_pred)\n",
    "    r2_ridge = metrics.r2_score(y_test, y_pred)\n",
    "            \n",
    "    triv_results.append((r2_ridge, mse_ridge))\n",
    "    print(f'MSE={mse_ridge} и r^2={r2_ridge} с Lambda={lambda_val} линейная регрессия с Ridge-регуляризацией, погружение - автокорреляционная функция')"
   ]
  },
  {
   "cell_type": "code",
   "execution_count": 38,
   "id": "850997b0-cfdb-4e21-8eff-012a9e929b42",
   "metadata": {},
   "outputs": [
    {
     "name": "stdout",
     "output_type": "stream",
     "text": [
      "MSE=0.00037352932527571575 и r^2=0.9999971362193455  CatBoost, погружение - автокорреляционная функция\n"
     ]
    }
   ],
   "source": [
    "train_pool = Pool(x_train, y_train, cat_features=[])\n",
    "test_pool = Pool(x_test, y_test, cat_features=[])\n",
    "\n",
    "model_cat.fit(train_pool)\n",
    "y_pred_cat = model_cat.predict(test_pool)\n",
    "\n",
    "R_2_catboost = metrics.r2_score(y_test, y_pred_cat)\n",
    "MSE_catboost = metrics.mean_squared_error(y_test, y_pred_cat)\n",
    "\n",
    "triv_results.append((R_2_catboost, MSE_catboost))\n",
    "print(f'MSE={MSE_catboost} и r^2={R_2_catboost}  CatBoost, погружение - автокорреляционная функция')"
   ]
  },
  {
   "cell_type": "markdown",
   "id": "d89e3a52-3bae-41d5-9731-0cb30ef113a4",
   "metadata": {},
   "source": [
    "#### DSCVR на DSCVR"
   ]
  },
  {
   "cell_type": "code",
   "execution_count": 39,
   "id": "81e13c43-9dcf-4e51-855c-2ba291945a59",
   "metadata": {},
   "outputs": [],
   "source": [
    "x_train, x_test, y_train, y_test = train_test_split(data_discover_autocorr.iloc[:, from_index_data:], data_discover_autocorr['Dst'], test_size=0.15, shuffle=False)"
   ]
  },
  {
   "cell_type": "code",
   "execution_count": 40,
   "id": "e4044365-889d-4f09-856c-611c90eec89a",
   "metadata": {},
   "outputs": [
    {
     "name": "stdout",
     "output_type": "stream",
     "text": [
      "MSE=8.06592774135735e-27 и r^2=1.0 линейная регрессия, погружение - автокорреляционная функция\n"
     ]
    }
   ],
   "source": [
    "pipe.fit(x_train, y_train)\n",
    "y_pred = pipe.predict(x_test)\n",
    "\n",
    "R_2 = metrics.r2_score(y_test, y_pred)\n",
    "MSE = metrics.mean_squared_error(y_test, y_pred)\n",
    "\n",
    "triv_results.append((R_2, MSE))\n",
    "print(f'MSE={MSE} и r^2={R_2} линейная регрессия, погружение - автокорреляционная функция')"
   ]
  },
  {
   "cell_type": "code",
   "execution_count": 41,
   "id": "b39d01e2-0d80-4605-bf6c-2921a84b7dfe",
   "metadata": {},
   "outputs": [
    {
     "name": "stdout",
     "output_type": "stream",
     "text": [
      "MSE=4.646617942500718e-15 и r^2=1.0 с Lambda=0.01 линейная регрессия с Ridge-регуляризацией, погружение - автокорреляционная функция\n",
      "MSE=4.64570285708968e-09 и r^2=0.9999999999468434 с Lambda=10 линейная регрессия с Ridge-регуляризацией, погружение - автокорреляционная функция\n"
     ]
    }
   ],
   "source": [
    "lambda_values = [0.01, 10]\n",
    "\n",
    "for lambda_val in lambda_values:\n",
    "    ridge_reg = Ridge(lambda_val)\n",
    "    ridge_reg.fit(x_train, y_train)\n",
    "    y_pred = ridge_reg.predict(x_test)\n",
    "            \n",
    "    mse_ridge = metrics.mean_squared_error(y_test, y_pred)\n",
    "    r2_ridge = metrics.r2_score(y_test, y_pred)\n",
    "            \n",
    "    triv_results.append((r2_ridge, mse_ridge))\n",
    "    print(f'MSE={mse_ridge} и r^2={r2_ridge} с Lambda={lambda_val} линейная регрессия с Ridge-регуляризацией, погружение - автокорреляционная функция')"
   ]
  },
  {
   "cell_type": "code",
   "execution_count": 42,
   "id": "92712fc8-c92f-49ea-872d-ae073d8d9cd2",
   "metadata": {},
   "outputs": [
    {
     "name": "stdout",
     "output_type": "stream",
     "text": [
      "MSE=0.0037171926908484373 и r^2=0.9999574675064676  CatBoost, погружение - автокорреляционная функция\n"
     ]
    }
   ],
   "source": [
    "train_pool = Pool(x_train, y_train, cat_features=[])\n",
    "test_pool = Pool(x_test, y_test, cat_features=[])\n",
    "\n",
    "model_cat.fit(train_pool)\n",
    "y_pred_cat = model_cat.predict(test_pool)\n",
    "\n",
    "R_2_catboost = metrics.r2_score(y_test, y_pred_cat)\n",
    "MSE_catboost = metrics.mean_squared_error(y_test, y_pred_cat)\n",
    "\n",
    "triv_results.append((R_2_catboost, MSE_catboost))\n",
    "print(f'MSE={MSE_catboost} и r^2={R_2_catboost}  CatBoost, погружение - автокорреляционная функция')"
   ]
  },
  {
   "cell_type": "code",
   "execution_count": 79,
   "id": "76a3a7b0-cc74-49a4-a9c4-64006ae68936",
   "metadata": {},
   "outputs": [
    {
     "name": "stdout",
     "output_type": "stream",
     "text": [
      "4.2240910924450065e-24\n",
      "1.5546074054194041\n",
      "3.6162610422986425\n",
      "5.0749991452454495\n",
      "0.00037352932527571575\n",
      "8.06592774135735e-27\n",
      "4.646617942500718e-15\n",
      "4.64570285708968e-09\n",
      "0.0037171926908484373\n"
     ]
    }
   ],
   "source": [
    "for i in triv_results:\n",
    "    print(i[1])"
   ]
  },
  {
   "cell_type": "code",
   "execution_count": null,
   "id": "39dd23b6-86d1-449a-a832-1ef53f5816da",
   "metadata": {},
   "outputs": [],
   "source": []
  }
 ],
 "metadata": {
  "kernelspec": {
   "display_name": "Python 3 (ipykernel)",
   "language": "python",
   "name": "python3"
  },
  "language_info": {
   "codemirror_mode": {
    "name": "ipython",
    "version": 3
   },
   "file_extension": ".py",
   "mimetype": "text/x-python",
   "name": "python",
   "nbconvert_exporter": "python",
   "pygments_lexer": "ipython3",
   "version": "3.10.0"
  }
 },
 "nbformat": 4,
 "nbformat_minor": 5
}
